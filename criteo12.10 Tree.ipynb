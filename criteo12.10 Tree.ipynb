{
 "cells": [
  {
   "cell_type": "code",
   "execution_count": 4,
   "metadata": {},
   "outputs": [],
   "source": [
    "import pandas as pd"
   ]
  },
  {
   "cell_type": "code",
   "execution_count": 5,
   "metadata": {},
   "outputs": [],
   "source": [
    "import numpy as np"
   ]
  },
  {
   "cell_type": "code",
   "execution_count": 6,
   "metadata": {},
   "outputs": [],
   "source": [
    "# import three files, takes very long\n",
    "df_all = pd.read_csv('criteo-uplift-v2.1.csv', encoding='latin_1')\n",
    "df_treated = pd.read_csv('criteo_treated.csv', encoding='latin_1')\n",
    "df_untreated = pd.read_csv('criteo_not_treated.csv', encoding='latin_1')"
   ]
  },
  {
   "cell_type": "code",
   "execution_count": 7,
   "metadata": {},
   "outputs": [
    {
     "data": {
      "text/plain": [
       "Index(['f0', 'f1', 'f2', 'f3', 'f4', 'f5', 'f6', 'f7', 'f8', 'f9', 'f10',\n",
       "       'f11', 'treatment', 'conversion', 'visit', 'exposure'],\n",
       "      dtype='object')"
      ]
     },
     "execution_count": 7,
     "metadata": {},
     "output_type": "execute_result"
    }
   ],
   "source": [
    "df_all.columns"
   ]
  },
  {
   "cell_type": "code",
   "execution_count": 8,
   "metadata": {},
   "outputs": [
    {
     "name": "stdout",
     "output_type": "stream",
     "text": [
      "13979592 11882655 2096937\n"
     ]
    }
   ],
   "source": [
    "#These are the number of rows in each file. Treated and Untreated data were extracted from the total data.\n",
    "count_all = df_all['conversion'].count()\n",
    "count_treated = df_treated['conversion'].count()\n",
    "count_untreated = df_untreated['conversion'].count()\n",
    "print(count_all,count_treated,count_untreated)"
   ]
  },
  {
   "cell_type": "markdown",
   "metadata": {},
   "source": [
    "#### By the number of untreated data, select these numbers of data randomly from all/treated/untreated\n",
    "* 60% train = 1258163\n",
    "* 20% validation = 419387\n",
    "* 20% test = 419387\n",
    "#### To do this, I shuffle each dataset and choose corresponding number of rows from them, so that we are in fact randomly selecting our training, validating and testing set"
   ]
  },
  {
   "cell_type": "code",
   "execution_count": 9,
   "metadata": {},
   "outputs": [],
   "source": [
    "#Shuffle data to make sure random selection\n",
    "from sklearn.utils import shuffle\n",
    "df_untreated = shuffle(df_untreated)\n",
    "df_treated = shuffle(df_treated)\n",
    "df_all = shuffle(df_all)"
   ]
  },
  {
   "cell_type": "code",
   "execution_count": 10,
   "metadata": {},
   "outputs": [],
   "source": [
    "#Set the number of train, validation and test data we want to use\n",
    "train = 1258163   \n",
    "val = 419387\n",
    "test = 419387"
   ]
  },
  {
   "cell_type": "markdown",
   "metadata": {},
   "source": [
    "## Model 1: All data, predict conversion"
   ]
  },
  {
   "cell_type": "code",
   "execution_count": 140,
   "metadata": {},
   "outputs": [
    {
     "data": {
      "text/plain": [
       "0.9970623791390768"
      ]
     },
     "execution_count": 140,
     "metadata": {},
     "output_type": "execute_result"
    }
   ],
   "source": [
    "#Model 1: run logistic regression for all data (including treated and untreated) to predict conversion, if we use the default solver, the model does not converge\n",
    "from sklearn.tree import DecisionTreeClassifier\n",
    "X, y = df_all[['f0','f1','f2','f3','f4','f5','f6','f7','f8','f9','f10','f11']][:train],df_all['conversion'][:train]\n",
    "X_val,y_val = df_all[['f0','f1','f2','f3','f4','f5','f6','f7','f8','f9','f10','f11']][train:train+val],df_all['conversion'][train:train+val]\n",
    "clf = DecisionTreeClassifier(min_samples_leaf = 10000).fit(X, y)\n",
    "clf.score(X_val, y_val)"
   ]
  },
  {
   "cell_type": "code",
   "execution_count": 143,
   "metadata": {},
   "outputs": [
    {
     "data": {
      "text/plain": [
       "0.9490438439608007"
      ]
     },
     "execution_count": 143,
     "metadata": {},
     "output_type": "execute_result"
    }
   ],
   "source": [
    "# AUC for this model\n",
    "from sklearn import metrics\n",
    "fpr, tpr, thresholds = metrics.roc_curve(y_val, clf.predict_proba(val_set[['f0','f1','f2','f3','f4','f5','f6','f7','f8','f9','f10','f11']])[:,1]\n",
    ")\n",
    "metrics.auc(fpr, tpr)"
   ]
  },
  {
   "cell_type": "markdown",
   "metadata": {},
   "source": [
    "## Model 2: All data, predict visit"
   ]
  },
  {
   "cell_type": "code",
   "execution_count": 144,
   "metadata": {},
   "outputs": [
    {
     "data": {
      "text/plain": [
       "0.957614327578108"
      ]
     },
     "execution_count": 144,
     "metadata": {},
     "output_type": "execute_result"
    }
   ],
   "source": [
    "#Model 2: run logistic regression for all data (including treated and untreated) to predict visit\n",
    "y_visit = df_all['visit'][:train]\n",
    "y_visit_val = df_all['visit'][train:train+val]\n",
    "clf_visit = DecisionTreeClassifier(min_samples_leaf = 10000).fit(X, y_visit)\n",
    "clf_visit.score(X_val, y_visit_val)"
   ]
  },
  {
   "cell_type": "markdown",
   "metadata": {},
   "source": [
    "## Model 3: Treated data, predict conversion"
   ]
  },
  {
   "cell_type": "code",
   "execution_count": 145,
   "metadata": {},
   "outputs": [
    {
     "data": {
      "text/plain": [
       "0.9970075371911862"
      ]
     },
     "execution_count": 145,
     "metadata": {},
     "output_type": "execute_result"
    }
   ],
   "source": [
    "X_tr, y_tr = df_treated[['f0','f1','f2','f3','f4','f5','f6','f7','f8','f9','f10','f11']][:train],df_treated['conversion'][:train]\n",
    "X_tr_val,y_tr_val = df_treated[['f0','f1','f2','f3','f4','f5','f6','f7','f8','f9','f10','f11']][train:train+val],df_treated['conversion'][train:train+val]\n",
    "clf_treated = DecisionTreeClassifier(min_samples_leaf = 10000).fit(X_tr, y_tr)\n",
    "clf_treated.score(X_tr_val, y_tr_val)"
   ]
  },
  {
   "cell_type": "code",
   "execution_count": 142,
   "metadata": {},
   "outputs": [
    {
     "data": {
      "text/plain": [
       "0.6085638857740412"
      ]
     },
     "execution_count": 142,
     "metadata": {},
     "output_type": "execute_result"
    }
   ],
   "source": [
    "from sklearn import metrics\n",
    "\n",
    "fpr, tpr, thresholds = metrics.roc_curve(y_val, clf_treated.predict_proba(val_set[['f0','f1','f2','f3','f4','f5','f6','f7','f8','f9','f10','f11']])[:,1])\n",
    "metrics.auc(fpr, tpr)"
   ]
  },
  {
   "cell_type": "markdown",
   "metadata": {},
   "source": [
    "## Model 4: Treated data, predict visit"
   ]
  },
  {
   "cell_type": "code",
   "execution_count": 146,
   "metadata": {},
   "outputs": [
    {
     "data": {
      "text/plain": [
       "0.9568680002002923"
      ]
     },
     "execution_count": 146,
     "metadata": {},
     "output_type": "execute_result"
    }
   ],
   "source": [
    "X_tr_visit, y_tr_visit = df_treated[['f0','f1','f2','f3','f4','f5','f6','f7','f8','f9','f10','f11']][:train],df_treated['visit'][:train]\n",
    "X_tr_val,y_tr_val = df_treated[['f0','f1','f2','f3','f4','f5','f6','f7','f8','f9','f10','f11']][train:train+val],df_treated['visit'][train:train+val]\n",
    "clf_treated_visit = DecisionTreeClassifier(min_samples_leaf = 10000).fit(X_tr_visit, y_tr_visit)\n",
    "clf_treated_visit.score(X_tr_val, y_tr_val)"
   ]
  },
  {
   "cell_type": "markdown",
   "metadata": {},
   "source": [
    "## Model 5: Untreated data, predict conversion"
   ]
  },
  {
   "cell_type": "code",
   "execution_count": 147,
   "metadata": {},
   "outputs": [
    {
     "data": {
      "text/plain": [
       "0.9980471497685908"
      ]
     },
     "execution_count": 147,
     "metadata": {},
     "output_type": "execute_result"
    }
   ],
   "source": [
    "X_un, y_un = df_untreated[['f0','f1','f2','f3','f4','f5','f6','f7','f8','f9','f10','f11']][:train],df_untreated['conversion'][:train]\n",
    "X_un_val,y_un_val = df_untreated[['f0','f1','f2','f3','f4','f5','f6','f7','f8','f9','f10','f11']][train:train+val],df_untreated['conversion'][train:train+val]\n",
    "clf_untreated = DecisionTreeClassifier(min_samples_leaf = 10000).fit(X_un, y_un)\n",
    "clf_untreated.score(X_un_val, y_un_val)"
   ]
  },
  {
   "cell_type": "code",
   "execution_count": 123,
   "metadata": {},
   "outputs": [
    {
     "data": {
      "text/plain": [
       "0.9445403244454027"
      ]
     },
     "execution_count": 123,
     "metadata": {},
     "output_type": "execute_result"
    }
   ],
   "source": [
    "from sklearn import metrics\n",
    "\n",
    "fpr, tpr, thresholds = metrics.roc_curve(y_val, clf_untreated.predict_proba(val_set[['f0','f1','f2','f3','f4','f5','f6','f7','f8','f9','f10','f11']])[:,1])\n",
    "metrics.auc(fpr, tpr)"
   ]
  },
  {
   "cell_type": "markdown",
   "metadata": {},
   "source": [
    "## Model 6: Untreated data, predict visit"
   ]
  },
  {
   "cell_type": "code",
   "execution_count": 148,
   "metadata": {},
   "outputs": [
    {
     "data": {
      "text/plain": [
       "0.9646150214479705"
      ]
     },
     "execution_count": 148,
     "metadata": {},
     "output_type": "execute_result"
    }
   ],
   "source": [
    "X_un_visit, y_un_visit = df_untreated[['f0','f1','f2','f3','f4','f5','f6','f7','f8','f9','f10','f11']][:train],df_untreated['visit'][:train]\n",
    "X_un_val,y_un_val = df_untreated[['f0','f1','f2','f3','f4','f5','f6','f7','f8','f9','f10','f11']][train:train+val],df_untreated['visit'][train:train+val]\n",
    "clf_untreated_visit = DecisionTreeClassifier(min_samples_leaf = 10000).fit(X_un_visit, y_un_visit)\n",
    "clf_untreated_visit.score(X_un_val, y_un_val)"
   ]
  },
  {
   "cell_type": "markdown",
   "metadata": {},
   "source": [
    "## Model 1 Prediction\n",
    "### After building the models, we do evaluation and prediction using validation data\n",
    "* some data in val_set might be the same with training data in untreated/treated data set\n",
    "* val_set is completely separated from training data of model 1"
   ]
  },
  {
   "cell_type": "code",
   "execution_count": 141,
   "metadata": {},
   "outputs": [],
   "source": [
    "val_set = df_all[train:train+val]\n",
    "prediction = clf.predict_proba(val_set[['f0','f1','f2','f3','f4','f5','f6','f7','f8','f9','f10','f11']])"
   ]
  },
  {
   "cell_type": "code",
   "execution_count": 149,
   "metadata": {},
   "outputs": [
    {
     "name": "stderr",
     "output_type": "stream",
     "text": [
      "C:\\Users\\Huanci\\Anaconda3\\lib\\site-packages\\ipykernel_launcher.py:2: SettingWithCopyWarning: \n",
      "A value is trying to be set on a copy of a slice from a DataFrame.\n",
      "Try using .loc[row_indexer,col_indexer] = value instead\n",
      "\n",
      "See the caveats in the documentation: http://pandas.pydata.org/pandas-docs/stable/indexing.html#indexing-view-versus-copy\n",
      "  \n",
      "C:\\Users\\Huanci\\Anaconda3\\lib\\site-packages\\ipykernel_launcher.py:3: SettingWithCopyWarning: \n",
      "A value is trying to be set on a copy of a slice from a DataFrame.\n",
      "Try using .loc[row_indexer,col_indexer] = value instead\n",
      "\n",
      "See the caveats in the documentation: http://pandas.pydata.org/pandas-docs/stable/indexing.html#indexing-view-versus-copy\n",
      "  This is separate from the ipykernel package so we can avoid doing imports until\n",
      "C:\\Users\\Huanci\\Anaconda3\\lib\\site-packages\\ipykernel_launcher.py:4: SettingWithCopyWarning: \n",
      "A value is trying to be set on a copy of a slice from a DataFrame.\n",
      "Try using .loc[row_indexer,col_indexer] = value instead\n",
      "\n",
      "See the caveats in the documentation: http://pandas.pydata.org/pandas-docs/stable/indexing.html#indexing-view-versus-copy\n",
      "  after removing the cwd from sys.path.\n",
      "C:\\Users\\Huanci\\Anaconda3\\lib\\site-packages\\pandas\\core\\indexing.py:543: SettingWithCopyWarning: \n",
      "A value is trying to be set on a copy of a slice from a DataFrame.\n",
      "Try using .loc[row_indexer,col_indexer] = value instead\n",
      "\n",
      "See the caveats in the documentation: http://pandas.pydata.org/pandas-docs/stable/indexing.html#indexing-view-versus-copy\n",
      "  self.obj[item] = s\n"
     ]
    }
   ],
   "source": [
    "m1 = val_set[['treatment','conversion']]\n",
    "m1['prediction']= 0\n",
    "m1['1-prediction']= 0\n",
    "m1[['prediction','1-prediction']]= prediction"
   ]
  },
  {
   "cell_type": "code",
   "execution_count": 150,
   "metadata": {},
   "outputs": [
    {
     "data": {
      "text/html": [
       "<div>\n",
       "<style scoped>\n",
       "    .dataframe tbody tr th:only-of-type {\n",
       "        vertical-align: middle;\n",
       "    }\n",
       "\n",
       "    .dataframe tbody tr th {\n",
       "        vertical-align: top;\n",
       "    }\n",
       "\n",
       "    .dataframe thead th {\n",
       "        text-align: right;\n",
       "    }\n",
       "</style>\n",
       "<table border=\"1\" class=\"dataframe\">\n",
       "  <thead>\n",
       "    <tr style=\"text-align: right;\">\n",
       "      <th></th>\n",
       "      <th>treatment</th>\n",
       "      <th>conversion</th>\n",
       "      <th>prediction</th>\n",
       "      <th>1-prediction</th>\n",
       "    </tr>\n",
       "  </thead>\n",
       "  <tbody>\n",
       "    <tr>\n",
       "      <th>4598634</th>\n",
       "      <td>1</td>\n",
       "      <td>0</td>\n",
       "      <td>0.999623</td>\n",
       "      <td>0.000377</td>\n",
       "    </tr>\n",
       "    <tr>\n",
       "      <th>12648370</th>\n",
       "      <td>1</td>\n",
       "      <td>0</td>\n",
       "      <td>1.000000</td>\n",
       "      <td>0.000000</td>\n",
       "    </tr>\n",
       "    <tr>\n",
       "      <th>4077297</th>\n",
       "      <td>1</td>\n",
       "      <td>0</td>\n",
       "      <td>0.999873</td>\n",
       "      <td>0.000127</td>\n",
       "    </tr>\n",
       "    <tr>\n",
       "      <th>13715930</th>\n",
       "      <td>1</td>\n",
       "      <td>0</td>\n",
       "      <td>0.982680</td>\n",
       "      <td>0.017320</td>\n",
       "    </tr>\n",
       "    <tr>\n",
       "      <th>6951978</th>\n",
       "      <td>1</td>\n",
       "      <td>0</td>\n",
       "      <td>1.000000</td>\n",
       "      <td>0.000000</td>\n",
       "    </tr>\n",
       "  </tbody>\n",
       "</table>\n",
       "</div>"
      ],
      "text/plain": [
       "          treatment  conversion  prediction  1-prediction\n",
       "4598634           1           0    0.999623      0.000377\n",
       "12648370          1           0    1.000000      0.000000\n",
       "4077297           1           0    0.999873      0.000127\n",
       "13715930          1           0    0.982680      0.017320\n",
       "6951978           1           0    1.000000      0.000000"
      ]
     },
     "execution_count": 150,
     "metadata": {},
     "output_type": "execute_result"
    }
   ],
   "source": [
    "m1.head()"
   ]
  },
  {
   "cell_type": "markdown",
   "metadata": {},
   "source": [
    "## Now we see the features of the validation set"
   ]
  },
  {
   "cell_type": "code",
   "execution_count": 151,
   "metadata": {},
   "outputs": [
    {
     "data": {
      "text/plain": [
       "0.8492490229787761"
      ]
     },
     "execution_count": 151,
     "metadata": {},
     "output_type": "execute_result"
    }
   ],
   "source": [
    "#porportion of people treated\n",
    "targeted = sum(m1['treatment'])/len(m1)\n",
    "targeted"
   ]
  },
  {
   "cell_type": "code",
   "execution_count": 152,
   "metadata": {},
   "outputs": [
    {
     "data": {
      "text/plain": [
       "0.0031193495131456297"
      ]
     },
     "execution_count": 152,
     "metadata": {},
     "output_type": "execute_result"
    }
   ],
   "source": [
    "#conversion rate on treated\n",
    "treat_all = m1['conversion'].dot(m1['treatment'])/sum(m1['treatment'])\n",
    "treat_all"
   ]
  },
  {
   "cell_type": "code",
   "execution_count": 153,
   "metadata": {},
   "outputs": [
    {
     "data": {
      "text/plain": [
       "0.001913860462173576"
      ]
     },
     "execution_count": 153,
     "metadata": {},
     "output_type": "execute_result"
    }
   ],
   "source": [
    "#conversion rate on not treated\n",
    "treat_none = m1['conversion'].dot(1-m1['treatment'])/sum(1-m1['treatment'])\n",
    "treat_none"
   ]
  },
  {
   "cell_type": "code",
   "execution_count": 154,
   "metadata": {},
   "outputs": [
    {
     "data": {
      "text/plain": [
       "0.0029376208609232044"
      ]
     },
     "execution_count": 154,
     "metadata": {},
     "output_type": "execute_result"
    }
   ],
   "source": [
    "#conversion rate if treat randomly (according to the percentage treated)\n",
    "treat_random = treat_all*targeted+treat_none*(1-targeted)\n",
    "treat_random"
   ]
  },
  {
   "cell_type": "markdown",
   "metadata": {},
   "source": [
    "## Now, we target top 10% and see the result"
   ]
  },
  {
   "cell_type": "code",
   "execution_count": 155,
   "metadata": {},
   "outputs": [
    {
     "data": {
      "text/plain": [
       "array([1., 1., 1., ..., 0., 0., 0.])"
      ]
     },
     "execution_count": 155,
     "metadata": {},
     "output_type": "execute_result"
    }
   ],
   "source": [
    "target_start = 0\n",
    "target_end = 41939 #10%\n",
    "target_decision = np.zeros(len(val_set))\n",
    "target_decision[target_start:target_end] = 1\n",
    "target_decision"
   ]
  },
  {
   "cell_type": "code",
   "execution_count": 156,
   "metadata": {},
   "outputs": [],
   "source": [
    "m1 = m1.sort_values(by = '1-prediction',ascending= False)"
   ]
  },
  {
   "cell_type": "code",
   "execution_count": 157,
   "metadata": {},
   "outputs": [],
   "source": [
    "m1['target_decision'] = target_decision"
   ]
  },
  {
   "cell_type": "code",
   "execution_count": 158,
   "metadata": {},
   "outputs": [],
   "source": [
    "m1['treat=assign'] = (m1['target_decision'] == m1['treatment'])\n"
   ]
  },
  {
   "cell_type": "code",
   "execution_count": 159,
   "metadata": {
    "scrolled": true
   },
   "outputs": [
    {
     "data": {
      "text/html": [
       "<div>\n",
       "<style scoped>\n",
       "    .dataframe tbody tr th:only-of-type {\n",
       "        vertical-align: middle;\n",
       "    }\n",
       "\n",
       "    .dataframe tbody tr th {\n",
       "        vertical-align: top;\n",
       "    }\n",
       "\n",
       "    .dataframe thead th {\n",
       "        text-align: right;\n",
       "    }\n",
       "</style>\n",
       "<table border=\"1\" class=\"dataframe\">\n",
       "  <thead>\n",
       "    <tr style=\"text-align: right;\">\n",
       "      <th></th>\n",
       "      <th>treatment</th>\n",
       "      <th>conversion</th>\n",
       "      <th>prediction</th>\n",
       "      <th>1-prediction</th>\n",
       "      <th>target_decision</th>\n",
       "      <th>treat=assign</th>\n",
       "    </tr>\n",
       "  </thead>\n",
       "  <tbody>\n",
       "    <tr>\n",
       "      <th>4814137</th>\n",
       "      <td>1</td>\n",
       "      <td>0</td>\n",
       "      <td>0.842551</td>\n",
       "      <td>0.157449</td>\n",
       "      <td>1.0</td>\n",
       "      <td>1.0</td>\n",
       "    </tr>\n",
       "    <tr>\n",
       "      <th>6083574</th>\n",
       "      <td>0</td>\n",
       "      <td>0</td>\n",
       "      <td>0.842551</td>\n",
       "      <td>0.157449</td>\n",
       "      <td>1.0</td>\n",
       "      <td>0.0</td>\n",
       "    </tr>\n",
       "    <tr>\n",
       "      <th>6008946</th>\n",
       "      <td>0</td>\n",
       "      <td>0</td>\n",
       "      <td>0.842551</td>\n",
       "      <td>0.157449</td>\n",
       "      <td>1.0</td>\n",
       "      <td>0.0</td>\n",
       "    </tr>\n",
       "    <tr>\n",
       "      <th>378823</th>\n",
       "      <td>1</td>\n",
       "      <td>0</td>\n",
       "      <td>0.842551</td>\n",
       "      <td>0.157449</td>\n",
       "      <td>1.0</td>\n",
       "      <td>1.0</td>\n",
       "    </tr>\n",
       "    <tr>\n",
       "      <th>1719901</th>\n",
       "      <td>1</td>\n",
       "      <td>0</td>\n",
       "      <td>0.842551</td>\n",
       "      <td>0.157449</td>\n",
       "      <td>1.0</td>\n",
       "      <td>1.0</td>\n",
       "    </tr>\n",
       "  </tbody>\n",
       "</table>\n",
       "</div>"
      ],
      "text/plain": [
       "         treatment  conversion  prediction  1-prediction  target_decision  \\\n",
       "4814137          1           0    0.842551      0.157449              1.0   \n",
       "6083574          0           0    0.842551      0.157449              1.0   \n",
       "6008946          0           0    0.842551      0.157449              1.0   \n",
       "378823           1           0    0.842551      0.157449              1.0   \n",
       "1719901          1           0    0.842551      0.157449              1.0   \n",
       "\n",
       "         treat=assign  \n",
       "4814137           1.0  \n",
       "6083574           0.0  \n",
       "6008946           0.0  \n",
       "378823            1.0  \n",
       "1719901           1.0  "
      ]
     },
     "execution_count": 159,
     "metadata": {},
     "output_type": "execute_result"
    }
   ],
   "source": [
    "m1['treat=assign'] = m1['treat=assign'].replace(True,1)\n",
    "m1['treat=assign'] = m1['treat=assign'].replace(False,0)\n",
    "m1.head()"
   ]
  },
  {
   "cell_type": "code",
   "execution_count": 160,
   "metadata": {},
   "outputs": [],
   "source": [
    "#calculte the reward by treat=assign\n",
    "reward = m1['conversion']*m1['treat=assign']\n",
    "for i in range(len(m1)):\n",
    "    if m1['treatment'].iloc[i] == 1:\n",
    "        reward.iloc[i] = reward.iloc[i]/targeted\n",
    "    else:\n",
    "        reward.iloc[i] = reward.iloc[i]/(1-targeted)     "
   ]
  },
  {
   "cell_type": "code",
   "execution_count": 161,
   "metadata": {},
   "outputs": [
    {
     "data": {
      "text/plain": [
       "0.000000    418398\n",
       "1.177511       972\n",
       "6.633456        17\n",
       "dtype: int64"
      ]
     },
     "execution_count": 161,
     "metadata": {},
     "output_type": "execute_result"
    }
   ],
   "source": [
    "reward.value_counts()"
   ]
  },
  {
   "cell_type": "code",
   "execution_count": 162,
   "metadata": {},
   "outputs": [],
   "source": [
    "m1['reward'] = reward"
   ]
  },
  {
   "cell_type": "code",
   "execution_count": 163,
   "metadata": {},
   "outputs": [],
   "source": [
    "#calculate effects\n",
    "def effect(m):\n",
    "    treat_with_model = sum(m['reward'])/len(m)\n",
    "    for_target_treated = m['treatment'].dot(m['conversion']*m['target_decision'])/(m['treatment'].dot(m['target_decision']))\n",
    "    for_target_untreated = (1-m['treatment']).dot(m['conversion']*m['target_decision'])/((1-m['treatment']).dot(m['target_decision']))\n",
    "    avg_effect = treat_all-treat_none\n",
    "    effect_for_targeted = for_target_treated - for_target_untreated\n",
    "    return treat_with_model,for_target_treated,for_target_untreated,avg_effect,effect_for_targeted"
   ]
  },
  {
   "cell_type": "code",
   "execution_count": 164,
   "metadata": {},
   "outputs": [],
   "source": [
    "effect1 = effect(m1)"
   ]
  },
  {
   "cell_type": "code",
   "execution_count": 165,
   "metadata": {},
   "outputs": [
    {
     "data": {
      "text/plain": [
       "(0.002997969348507079,\n",
       " 0.026944613849309754,\n",
       " 0.01773231031543052,\n",
       " 0.0012054890509720537,\n",
       " 0.009212303533879234)"
      ]
     },
     "execution_count": 165,
     "metadata": {},
     "output_type": "execute_result"
    }
   ],
   "source": [
    "effect1"
   ]
  },
  {
   "cell_type": "markdown",
   "metadata": {},
   "source": [
    "## Model 3 Prediction "
   ]
  },
  {
   "cell_type": "code",
   "execution_count": 166,
   "metadata": {},
   "outputs": [],
   "source": [
    "val_set = df_all[train:train+val]\n",
    "prediction3 = clf_treated.predict_proba(val_set[['f0','f1','f2','f3','f4','f5','f6','f7','f8','f9','f10','f11']])"
   ]
  },
  {
   "cell_type": "code",
   "execution_count": 167,
   "metadata": {},
   "outputs": [
    {
     "name": "stderr",
     "output_type": "stream",
     "text": [
      "C:\\Users\\Huanci\\Anaconda3\\lib\\site-packages\\ipykernel_launcher.py:2: SettingWithCopyWarning: \n",
      "A value is trying to be set on a copy of a slice from a DataFrame.\n",
      "Try using .loc[row_indexer,col_indexer] = value instead\n",
      "\n",
      "See the caveats in the documentation: http://pandas.pydata.org/pandas-docs/stable/indexing.html#indexing-view-versus-copy\n",
      "  \n",
      "C:\\Users\\Huanci\\Anaconda3\\lib\\site-packages\\ipykernel_launcher.py:3: SettingWithCopyWarning: \n",
      "A value is trying to be set on a copy of a slice from a DataFrame.\n",
      "Try using .loc[row_indexer,col_indexer] = value instead\n",
      "\n",
      "See the caveats in the documentation: http://pandas.pydata.org/pandas-docs/stable/indexing.html#indexing-view-versus-copy\n",
      "  This is separate from the ipykernel package so we can avoid doing imports until\n",
      "C:\\Users\\Huanci\\Anaconda3\\lib\\site-packages\\ipykernel_launcher.py:4: SettingWithCopyWarning: \n",
      "A value is trying to be set on a copy of a slice from a DataFrame.\n",
      "Try using .loc[row_indexer,col_indexer] = value instead\n",
      "\n",
      "See the caveats in the documentation: http://pandas.pydata.org/pandas-docs/stable/indexing.html#indexing-view-versus-copy\n",
      "  after removing the cwd from sys.path.\n",
      "C:\\Users\\Huanci\\Anaconda3\\lib\\site-packages\\pandas\\core\\indexing.py:543: SettingWithCopyWarning: \n",
      "A value is trying to be set on a copy of a slice from a DataFrame.\n",
      "Try using .loc[row_indexer,col_indexer] = value instead\n",
      "\n",
      "See the caveats in the documentation: http://pandas.pydata.org/pandas-docs/stable/indexing.html#indexing-view-versus-copy\n",
      "  self.obj[item] = s\n"
     ]
    }
   ],
   "source": [
    "m3 = val_set[['treatment','conversion']]\n",
    "m3['prediction']= 0\n",
    "m3['1-prediction']= 0\n",
    "m3[['prediction','1-prediction']]= prediction3"
   ]
  },
  {
   "cell_type": "code",
   "execution_count": 168,
   "metadata": {},
   "outputs": [],
   "source": [
    "m3 = m3.sort_values(by='1-prediction',ascending = False)"
   ]
  },
  {
   "cell_type": "markdown",
   "metadata": {},
   "source": [
    "### targeted, treat_all, treat_none, treat_random are the same for the same validation set"
   ]
  },
  {
   "cell_type": "code",
   "execution_count": 169,
   "metadata": {},
   "outputs": [
    {
     "data": {
      "text/plain": [
       "array([1., 1., 1., ..., 0., 0., 0.])"
      ]
     },
     "execution_count": 169,
     "metadata": {},
     "output_type": "execute_result"
    }
   ],
   "source": [
    "target_start = 0\n",
    "target_end = 41939 #10%\n",
    "target_decision = np.zeros(len(val_set))\n",
    "target_decision[target_start:target_end] = 1\n",
    "target_decision"
   ]
  },
  {
   "cell_type": "code",
   "execution_count": 170,
   "metadata": {},
   "outputs": [],
   "source": [
    "m3['target_decision'] = target_decision"
   ]
  },
  {
   "cell_type": "code",
   "execution_count": 171,
   "metadata": {},
   "outputs": [
    {
     "data": {
      "text/html": [
       "<div>\n",
       "<style scoped>\n",
       "    .dataframe tbody tr th:only-of-type {\n",
       "        vertical-align: middle;\n",
       "    }\n",
       "\n",
       "    .dataframe tbody tr th {\n",
       "        vertical-align: top;\n",
       "    }\n",
       "\n",
       "    .dataframe thead th {\n",
       "        text-align: right;\n",
       "    }\n",
       "</style>\n",
       "<table border=\"1\" class=\"dataframe\">\n",
       "  <thead>\n",
       "    <tr style=\"text-align: right;\">\n",
       "      <th></th>\n",
       "      <th>treatment</th>\n",
       "      <th>conversion</th>\n",
       "      <th>prediction</th>\n",
       "      <th>1-prediction</th>\n",
       "      <th>target_decision</th>\n",
       "      <th>treat=assign</th>\n",
       "    </tr>\n",
       "  </thead>\n",
       "  <tbody>\n",
       "    <tr>\n",
       "      <th>2260365</th>\n",
       "      <td>1</td>\n",
       "      <td>0</td>\n",
       "      <td>0.833365</td>\n",
       "      <td>0.166635</td>\n",
       "      <td>1.0</td>\n",
       "      <td>1.0</td>\n",
       "    </tr>\n",
       "    <tr>\n",
       "      <th>3146085</th>\n",
       "      <td>1</td>\n",
       "      <td>0</td>\n",
       "      <td>0.833365</td>\n",
       "      <td>0.166635</td>\n",
       "      <td>1.0</td>\n",
       "      <td>1.0</td>\n",
       "    </tr>\n",
       "    <tr>\n",
       "      <th>13694484</th>\n",
       "      <td>1</td>\n",
       "      <td>1</td>\n",
       "      <td>0.833365</td>\n",
       "      <td>0.166635</td>\n",
       "      <td>1.0</td>\n",
       "      <td>1.0</td>\n",
       "    </tr>\n",
       "    <tr>\n",
       "      <th>2298279</th>\n",
       "      <td>1</td>\n",
       "      <td>0</td>\n",
       "      <td>0.833365</td>\n",
       "      <td>0.166635</td>\n",
       "      <td>1.0</td>\n",
       "      <td>1.0</td>\n",
       "    </tr>\n",
       "    <tr>\n",
       "      <th>1670617</th>\n",
       "      <td>1</td>\n",
       "      <td>0</td>\n",
       "      <td>0.833365</td>\n",
       "      <td>0.166635</td>\n",
       "      <td>1.0</td>\n",
       "      <td>1.0</td>\n",
       "    </tr>\n",
       "  </tbody>\n",
       "</table>\n",
       "</div>"
      ],
      "text/plain": [
       "          treatment  conversion  prediction  1-prediction  target_decision  \\\n",
       "2260365           1           0    0.833365      0.166635              1.0   \n",
       "3146085           1           0    0.833365      0.166635              1.0   \n",
       "13694484          1           1    0.833365      0.166635              1.0   \n",
       "2298279           1           0    0.833365      0.166635              1.0   \n",
       "1670617           1           0    0.833365      0.166635              1.0   \n",
       "\n",
       "          treat=assign  \n",
       "2260365            1.0  \n",
       "3146085            1.0  \n",
       "13694484           1.0  \n",
       "2298279            1.0  \n",
       "1670617            1.0  "
      ]
     },
     "execution_count": 171,
     "metadata": {},
     "output_type": "execute_result"
    }
   ],
   "source": [
    "m3['treat=assign'] = (m3['target_decision'] == m3['treatment'])\n",
    "m3['treat=assign'] = m3['treat=assign'].replace(True,1)\n",
    "m3['treat=assign'] = m3['treat=assign'].replace(False,0)\n",
    "m3.head()"
   ]
  },
  {
   "cell_type": "code",
   "execution_count": 172,
   "metadata": {},
   "outputs": [],
   "source": [
    "reward3 = m3['conversion']*m3['treat=assign']\n",
    "for i in range(len(m3)): \n",
    "    if m3['treatment'].iloc[i] == 1:\n",
    "        reward3.iloc[i] = reward3.iloc[i]/targeted\n",
    "    else:\n",
    "        reward3.iloc[i] = reward3.iloc[i]/(1-targeted)     "
   ]
  },
  {
   "cell_type": "code",
   "execution_count": 173,
   "metadata": {},
   "outputs": [
    {
     "data": {
      "text/plain": [
       "0.000000    418395\n",
       "1.177511       977\n",
       "6.633456        15\n",
       "dtype: int64"
      ]
     },
     "execution_count": 173,
     "metadata": {},
     "output_type": "execute_result"
    }
   ],
   "source": [
    "reward3.value_counts()"
   ]
  },
  {
   "cell_type": "code",
   "execution_count": 174,
   "metadata": {},
   "outputs": [],
   "source": [
    "m3['reward'] = reward"
   ]
  },
  {
   "cell_type": "code",
   "execution_count": 175,
   "metadata": {},
   "outputs": [
    {
     "data": {
      "text/plain": [
       "(0.002997969348507079,\n",
       " 0.02703226163466327,\n",
       " 0.018285319993099878,\n",
       " 0.0012054890509720537,\n",
       " 0.008746941641563394)"
      ]
     },
     "execution_count": 175,
     "metadata": {},
     "output_type": "execute_result"
    }
   ],
   "source": [
    "effect3 = effect(m3)\n",
    "effect3"
   ]
  },
  {
   "cell_type": "markdown",
   "metadata": {},
   "source": [
    "## Model 5 Prediction"
   ]
  },
  {
   "cell_type": "code",
   "execution_count": 176,
   "metadata": {},
   "outputs": [],
   "source": [
    "val_set = df_all[train:train+val]\n",
    "prediction5 = clf_untreated.predict_proba(val_set[['f0','f1','f2','f3','f4','f5','f6','f7','f8','f9','f10','f11']])"
   ]
  },
  {
   "cell_type": "code",
   "execution_count": 177,
   "metadata": {},
   "outputs": [
    {
     "name": "stderr",
     "output_type": "stream",
     "text": [
      "C:\\Users\\Huanci\\Anaconda3\\lib\\site-packages\\ipykernel_launcher.py:2: SettingWithCopyWarning: \n",
      "A value is trying to be set on a copy of a slice from a DataFrame.\n",
      "Try using .loc[row_indexer,col_indexer] = value instead\n",
      "\n",
      "See the caveats in the documentation: http://pandas.pydata.org/pandas-docs/stable/indexing.html#indexing-view-versus-copy\n",
      "  \n",
      "C:\\Users\\Huanci\\Anaconda3\\lib\\site-packages\\ipykernel_launcher.py:3: SettingWithCopyWarning: \n",
      "A value is trying to be set on a copy of a slice from a DataFrame.\n",
      "Try using .loc[row_indexer,col_indexer] = value instead\n",
      "\n",
      "See the caveats in the documentation: http://pandas.pydata.org/pandas-docs/stable/indexing.html#indexing-view-versus-copy\n",
      "  This is separate from the ipykernel package so we can avoid doing imports until\n",
      "C:\\Users\\Huanci\\Anaconda3\\lib\\site-packages\\ipykernel_launcher.py:4: SettingWithCopyWarning: \n",
      "A value is trying to be set on a copy of a slice from a DataFrame.\n",
      "Try using .loc[row_indexer,col_indexer] = value instead\n",
      "\n",
      "See the caveats in the documentation: http://pandas.pydata.org/pandas-docs/stable/indexing.html#indexing-view-versus-copy\n",
      "  after removing the cwd from sys.path.\n",
      "C:\\Users\\Huanci\\Anaconda3\\lib\\site-packages\\pandas\\core\\indexing.py:543: SettingWithCopyWarning: \n",
      "A value is trying to be set on a copy of a slice from a DataFrame.\n",
      "Try using .loc[row_indexer,col_indexer] = value instead\n",
      "\n",
      "See the caveats in the documentation: http://pandas.pydata.org/pandas-docs/stable/indexing.html#indexing-view-versus-copy\n",
      "  self.obj[item] = s\n"
     ]
    }
   ],
   "source": [
    "m5 = val_set[['treatment','conversion']]\n",
    "m5['prediction']= 0\n",
    "m5['1-prediction']= 0\n",
    "m5[['prediction','1-prediction']]= prediction5"
   ]
  },
  {
   "cell_type": "code",
   "execution_count": 178,
   "metadata": {},
   "outputs": [],
   "source": [
    "m5 = m5.sort_values(by='1-prediction',ascending = False)"
   ]
  },
  {
   "cell_type": "code",
   "execution_count": 179,
   "metadata": {},
   "outputs": [],
   "source": [
    "m5['target_decision'] = target_decision"
   ]
  },
  {
   "cell_type": "code",
   "execution_count": 180,
   "metadata": {},
   "outputs": [
    {
     "data": {
      "text/html": [
       "<div>\n",
       "<style scoped>\n",
       "    .dataframe tbody tr th:only-of-type {\n",
       "        vertical-align: middle;\n",
       "    }\n",
       "\n",
       "    .dataframe tbody tr th {\n",
       "        vertical-align: top;\n",
       "    }\n",
       "\n",
       "    .dataframe thead th {\n",
       "        text-align: right;\n",
       "    }\n",
       "</style>\n",
       "<table border=\"1\" class=\"dataframe\">\n",
       "  <thead>\n",
       "    <tr style=\"text-align: right;\">\n",
       "      <th></th>\n",
       "      <th>treatment</th>\n",
       "      <th>conversion</th>\n",
       "      <th>prediction</th>\n",
       "      <th>1-prediction</th>\n",
       "      <th>target_decision</th>\n",
       "      <th>treat=assign</th>\n",
       "    </tr>\n",
       "  </thead>\n",
       "  <tbody>\n",
       "    <tr>\n",
       "      <th>482842</th>\n",
       "      <td>1</td>\n",
       "      <td>0</td>\n",
       "      <td>0.878548</td>\n",
       "      <td>0.121452</td>\n",
       "      <td>1.0</td>\n",
       "      <td>1.0</td>\n",
       "    </tr>\n",
       "    <tr>\n",
       "      <th>582807</th>\n",
       "      <td>1</td>\n",
       "      <td>0</td>\n",
       "      <td>0.878548</td>\n",
       "      <td>0.121452</td>\n",
       "      <td>1.0</td>\n",
       "      <td>1.0</td>\n",
       "    </tr>\n",
       "    <tr>\n",
       "      <th>785310</th>\n",
       "      <td>1</td>\n",
       "      <td>0</td>\n",
       "      <td>0.878548</td>\n",
       "      <td>0.121452</td>\n",
       "      <td>1.0</td>\n",
       "      <td>1.0</td>\n",
       "    </tr>\n",
       "    <tr>\n",
       "      <th>2507008</th>\n",
       "      <td>1</td>\n",
       "      <td>0</td>\n",
       "      <td>0.878548</td>\n",
       "      <td>0.121452</td>\n",
       "      <td>1.0</td>\n",
       "      <td>1.0</td>\n",
       "    </tr>\n",
       "    <tr>\n",
       "      <th>2663541</th>\n",
       "      <td>1</td>\n",
       "      <td>0</td>\n",
       "      <td>0.878548</td>\n",
       "      <td>0.121452</td>\n",
       "      <td>1.0</td>\n",
       "      <td>1.0</td>\n",
       "    </tr>\n",
       "  </tbody>\n",
       "</table>\n",
       "</div>"
      ],
      "text/plain": [
       "         treatment  conversion  prediction  1-prediction  target_decision  \\\n",
       "482842           1           0    0.878548      0.121452              1.0   \n",
       "582807           1           0    0.878548      0.121452              1.0   \n",
       "785310           1           0    0.878548      0.121452              1.0   \n",
       "2507008          1           0    0.878548      0.121452              1.0   \n",
       "2663541          1           0    0.878548      0.121452              1.0   \n",
       "\n",
       "         treat=assign  \n",
       "482842            1.0  \n",
       "582807            1.0  \n",
       "785310            1.0  \n",
       "2507008           1.0  \n",
       "2663541           1.0  "
      ]
     },
     "execution_count": 180,
     "metadata": {},
     "output_type": "execute_result"
    }
   ],
   "source": [
    "m5['treat=assign'] = (m5['target_decision'] == m5['treatment'])\n",
    "m5['treat=assign'] = m5['treat=assign'].replace(True,1)\n",
    "m5['treat=assign'] = m5['treat=assign'].replace(False,0)\n",
    "m5.head()"
   ]
  },
  {
   "cell_type": "code",
   "execution_count": 181,
   "metadata": {},
   "outputs": [],
   "source": [
    "reward5 = m5['conversion']*m5['treat=assign']\n",
    "for i in range(len(m5)):\n",
    "    if m5['treatment'].iloc[i] == 1:\n",
    "        reward5.iloc[i] = reward5.iloc[i]/targeted\n",
    "    else:\n",
    "        reward5.iloc[i] = reward5.iloc[i]/(1-targeted)     "
   ]
  },
  {
   "cell_type": "code",
   "execution_count": 182,
   "metadata": {},
   "outputs": [
    {
     "data": {
      "text/plain": [
       "0.000000    418393\n",
       "1.177511       978\n",
       "6.633456        16\n",
       "dtype: int64"
      ]
     },
     "execution_count": 182,
     "metadata": {},
     "output_type": "execute_result"
    }
   ],
   "source": [
    "reward5.value_counts()"
   ]
  },
  {
   "cell_type": "code",
   "execution_count": 183,
   "metadata": {},
   "outputs": [],
   "source": [
    "m5['reward'] = reward"
   ]
  },
  {
   "cell_type": "code",
   "execution_count": 184,
   "metadata": {},
   "outputs": [
    {
     "data": {
      "text/plain": [
       "(0.002997969348507078,\n",
       " 0.027165157491250487,\n",
       " 0.017685699848408287,\n",
       " 0.0012054890509720537,\n",
       " 0.0094794576428422)"
      ]
     },
     "execution_count": 184,
     "metadata": {},
     "output_type": "execute_result"
    }
   ],
   "source": [
    "effect5 = effect(m5)\n",
    "effect5"
   ]
  },
  {
   "cell_type": "markdown",
   "metadata": {},
   "source": [
    "## Uplift Prediction\n",
    "* Create an uplift model by using prediction of treated - untreated"
   ]
  },
  {
   "cell_type": "code",
   "execution_count": 185,
   "metadata": {},
   "outputs": [],
   "source": [
    "uplift_prediction = m3['1-prediction']-m5['1-prediction']"
   ]
  },
  {
   "cell_type": "code",
   "execution_count": 186,
   "metadata": {},
   "outputs": [
    {
     "name": "stderr",
     "output_type": "stream",
     "text": [
      "C:\\Users\\Huanci\\Anaconda3\\lib\\site-packages\\ipykernel_launcher.py:3: SettingWithCopyWarning: \n",
      "A value is trying to be set on a copy of a slice from a DataFrame.\n",
      "Try using .loc[row_indexer,col_indexer] = value instead\n",
      "\n",
      "See the caveats in the documentation: http://pandas.pydata.org/pandas-docs/stable/indexing.html#indexing-view-versus-copy\n",
      "  This is separate from the ipykernel package so we can avoid doing imports until\n",
      "C:\\Users\\Huanci\\Anaconda3\\lib\\site-packages\\ipykernel_launcher.py:4: SettingWithCopyWarning: \n",
      "A value is trying to be set on a copy of a slice from a DataFrame.\n",
      "Try using .loc[row_indexer,col_indexer] = value instead\n",
      "\n",
      "See the caveats in the documentation: http://pandas.pydata.org/pandas-docs/stable/indexing.html#indexing-view-versus-copy\n",
      "  after removing the cwd from sys.path.\n"
     ]
    }
   ],
   "source": [
    "up = val_set[['treatment','conversion']]\n",
    "#up['prediction']= 0\n",
    "up['1-prediction']= 0\n",
    "up['1-prediction']= uplift_prediction"
   ]
  },
  {
   "cell_type": "code",
   "execution_count": 187,
   "metadata": {},
   "outputs": [],
   "source": [
    "up = up.sort_values(by='1-prediction',ascending = False)"
   ]
  },
  {
   "cell_type": "code",
   "execution_count": 188,
   "metadata": {},
   "outputs": [],
   "source": [
    "up['target_decision'] = target_decision\n",
    "up['treat=assign'] = (up['target_decision'] == up['treatment'])\n",
    "up['treat=assign'] = up['treat=assign'].replace(True,1)\n",
    "up['treat=assign'] = up['treat=assign'].replace(False,0)"
   ]
  },
  {
   "cell_type": "code",
   "execution_count": 189,
   "metadata": {},
   "outputs": [],
   "source": [
    "reward_up = up['conversion']*up['treat=assign']\n",
    "for i in range(len(up)):\n",
    "    if up['treatment'].iloc[i] == 1:\n",
    "        reward_up.iloc[i] = reward_up.iloc[i]/targeted\n",
    "    else:\n",
    "        reward_up.iloc[i] = reward_up.iloc[i]/(1-targeted)     "
   ]
  },
  {
   "cell_type": "code",
   "execution_count": 190,
   "metadata": {},
   "outputs": [
    {
     "data": {
      "text/plain": [
       "0.000000    418443\n",
       "1.177511       925\n",
       "6.633456        19\n",
       "dtype: int64"
      ]
     },
     "execution_count": 190,
     "metadata": {},
     "output_type": "execute_result"
    }
   ],
   "source": [
    "reward_up.value_counts()"
   ]
  },
  {
   "cell_type": "code",
   "execution_count": 191,
   "metadata": {},
   "outputs": [
    {
     "data": {
      "text/plain": [
       "(0.002997969348507078,\n",
       " 0.025644579983365678,\n",
       " 0.017379451354574884,\n",
       " 0.0012054890509720537,\n",
       " 0.008265128628790794)"
      ]
     },
     "execution_count": 191,
     "metadata": {},
     "output_type": "execute_result"
    }
   ],
   "source": [
    "up['reward'] = reward\n",
    "effect_up = effect(up)\n",
    "effect_up"
   ]
  },
  {
   "cell_type": "markdown",
   "metadata": {},
   "source": [
    "### Use Spearmanr correlation to see how closely these models are ranking things"
   ]
  },
  {
   "cell_type": "code",
   "execution_count": 192,
   "metadata": {},
   "outputs": [
    {
     "data": {
      "text/plain": [
       "SpearmanrResult(correlation=0.995839161291198, pvalue=0.0)"
      ]
     },
     "execution_count": 192,
     "metadata": {},
     "output_type": "execute_result"
    }
   ],
   "source": [
    "from scipy import stats\n",
    "stats.spearmanr(m1['1-prediction'], m3['1-prediction'])"
   ]
  },
  {
   "cell_type": "code",
   "execution_count": 193,
   "metadata": {},
   "outputs": [
    {
     "data": {
      "text/plain": [
       "SpearmanrResult(correlation=0.9738691323092424, pvalue=0.0)"
      ]
     },
     "execution_count": 193,
     "metadata": {},
     "output_type": "execute_result"
    }
   ],
   "source": [
    "stats.spearmanr(m1['1-prediction'], m5['1-prediction'])"
   ]
  },
  {
   "cell_type": "code",
   "execution_count": 194,
   "metadata": {},
   "outputs": [
    {
     "data": {
      "text/plain": [
       "SpearmanrResult(correlation=0.9698717227214069, pvalue=0.0)"
      ]
     },
     "execution_count": 194,
     "metadata": {},
     "output_type": "execute_result"
    }
   ],
   "source": [
    "stats.spearmanr(m3['1-prediction'], m5['1-prediction'])"
   ]
  },
  {
   "cell_type": "code",
   "execution_count": 195,
   "metadata": {},
   "outputs": [
    {
     "data": {
      "text/plain": [
       "SpearmanrResult(correlation=-0.9545499500526204, pvalue=0.0)"
      ]
     },
     "execution_count": 195,
     "metadata": {},
     "output_type": "execute_result"
    }
   ],
   "source": [
    "stats.spearmanr(m1['prediction'], up['1-prediction'])"
   ]
  },
  {
   "cell_type": "code",
   "execution_count": 196,
   "metadata": {},
   "outputs": [
    {
     "data": {
      "text/plain": [
       "SpearmanrResult(correlation=0.9567715817366147, pvalue=0.0)"
      ]
     },
     "execution_count": 196,
     "metadata": {},
     "output_type": "execute_result"
    }
   ],
   "source": [
    "stats.spearmanr(m3['1-prediction'], up['1-prediction'])"
   ]
  },
  {
   "cell_type": "code",
   "execution_count": 197,
   "metadata": {},
   "outputs": [
    {
     "data": {
      "text/plain": [
       "SpearmanrResult(correlation=0.9502433542360443, pvalue=0.0)"
      ]
     },
     "execution_count": 197,
     "metadata": {},
     "output_type": "execute_result"
    }
   ],
   "source": [
    "stats.spearmanr(m5['1-prediction'], up['1-prediction'])"
   ]
  },
  {
   "cell_type": "markdown",
   "metadata": {},
   "source": [
    "## Summarize effect for Tree models"
   ]
  },
  {
   "cell_type": "code",
   "execution_count": 198,
   "metadata": {},
   "outputs": [],
   "source": [
    "result = pd.DataFrame(np.array([np.array(effect1),np.array(effect3),np.array(effect5),np.array(effect_up)]),index = ['model_all','model_treated','model_untreated','uplift'],columns = ['treat_with_model','for_target_treated','for_target_untreated','avg_effect','effect_for_targeted'])"
   ]
  },
  {
   "cell_type": "code",
   "execution_count": 199,
   "metadata": {},
   "outputs": [
    {
     "data": {
      "text/html": [
       "<div>\n",
       "<style scoped>\n",
       "    .dataframe tbody tr th:only-of-type {\n",
       "        vertical-align: middle;\n",
       "    }\n",
       "\n",
       "    .dataframe tbody tr th {\n",
       "        vertical-align: top;\n",
       "    }\n",
       "\n",
       "    .dataframe thead th {\n",
       "        text-align: right;\n",
       "    }\n",
       "</style>\n",
       "<table border=\"1\" class=\"dataframe\">\n",
       "  <thead>\n",
       "    <tr style=\"text-align: right;\">\n",
       "      <th></th>\n",
       "      <th>treat_with_model</th>\n",
       "      <th>for_target_treated</th>\n",
       "      <th>for_target_untreated</th>\n",
       "      <th>avg_effect</th>\n",
       "      <th>effect_for_targeted</th>\n",
       "    </tr>\n",
       "  </thead>\n",
       "  <tbody>\n",
       "    <tr>\n",
       "      <th>model_all</th>\n",
       "      <td>0.002998</td>\n",
       "      <td>0.026945</td>\n",
       "      <td>0.017732</td>\n",
       "      <td>0.001205</td>\n",
       "      <td>0.009212</td>\n",
       "    </tr>\n",
       "    <tr>\n",
       "      <th>model_treated</th>\n",
       "      <td>0.002998</td>\n",
       "      <td>0.027032</td>\n",
       "      <td>0.018285</td>\n",
       "      <td>0.001205</td>\n",
       "      <td>0.008747</td>\n",
       "    </tr>\n",
       "    <tr>\n",
       "      <th>model_untreated</th>\n",
       "      <td>0.002998</td>\n",
       "      <td>0.027165</td>\n",
       "      <td>0.017686</td>\n",
       "      <td>0.001205</td>\n",
       "      <td>0.009479</td>\n",
       "    </tr>\n",
       "    <tr>\n",
       "      <th>uplift</th>\n",
       "      <td>0.002998</td>\n",
       "      <td>0.025645</td>\n",
       "      <td>0.017379</td>\n",
       "      <td>0.001205</td>\n",
       "      <td>0.008265</td>\n",
       "    </tr>\n",
       "  </tbody>\n",
       "</table>\n",
       "</div>"
      ],
      "text/plain": [
       "                 treat_with_model  for_target_treated  for_target_untreated  \\\n",
       "model_all                0.002998            0.026945              0.017732   \n",
       "model_treated            0.002998            0.027032              0.018285   \n",
       "model_untreated          0.002998            0.027165              0.017686   \n",
       "uplift                   0.002998            0.025645              0.017379   \n",
       "\n",
       "                 avg_effect  effect_for_targeted  \n",
       "model_all          0.001205             0.009212  \n",
       "model_treated      0.001205             0.008747  \n",
       "model_untreated    0.001205             0.009479  \n",
       "uplift             0.001205             0.008265  "
      ]
     },
     "execution_count": 199,
     "metadata": {},
     "output_type": "execute_result"
    }
   ],
   "source": [
    "result\n",
    "#treat_with_model = avg of reward column\n",
    "#for_target_treated = conversion rate of the treated and targeted\n",
    "#for_target_untreated = conversion rate of the untreated but targeted\n",
    "#avg_effect = treat_all-treat_none\n",
    "#effect_for_targeted = for_target_treated - for_target_untreated"
   ]
  },
  {
   "cell_type": "markdown",
   "metadata": {},
   "source": [
    "* min_samples_leaf=5000/10000\n",
    "* Tree vs logistic, random forest, etc.\n",
    "* good at predicting who to target\n",
    "# Tasks\n",
    "* untreated/treated is as good as uplift? (data on purchases/new product(cold start): mostly untreated; paper/treated is the common case (don't know the population untreated out there): treated and need to stop treating)\n",
    "\n",
    "### If not, how much data point needed to catch up? (learning curves vs data points) \n",
    "* learning curve for each model (treated, untreated)\n",
    "* learning curve for all (85% treated)\n",
    "* learning curve uplift model\n",
    "* starting uplift with all untreated, increase treated (y uplift, x treated observations/cost, when to reach horizontal(untreated)\n",
    "\n",
    "\n",
    "\n",
    "### in which settings?\n",
    "\n",
    "### uplift model: uplift modeling procedure. (different options) eg. \n"
   ]
  },
  {
   "cell_type": "code",
   "execution_count": null,
   "metadata": {},
   "outputs": [],
   "source": []
  }
 ],
 "metadata": {
  "kernelspec": {
   "display_name": "Python 3",
   "language": "python",
   "name": "python3"
  },
  "language_info": {
   "codemirror_mode": {
    "name": "ipython",
    "version": 3
   },
   "file_extension": ".py",
   "mimetype": "text/x-python",
   "name": "python",
   "nbconvert_exporter": "python",
   "pygments_lexer": "ipython3",
   "version": "3.6.5"
  }
 },
 "nbformat": 4,
 "nbformat_minor": 2
}
