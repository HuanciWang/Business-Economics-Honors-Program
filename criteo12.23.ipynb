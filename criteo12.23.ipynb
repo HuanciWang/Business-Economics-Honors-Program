{
 "cells": [
  {
   "cell_type": "code",
   "execution_count": 2,
   "metadata": {},
   "outputs": [
    {
     "data": {
      "text/plain": [
       "Index(['f0', 'f1', 'f2', 'f3', 'f4', 'f5', 'f6', 'f7', 'f8', 'f9', 'f10',\n",
       "       'f11', 'treatment', 'conversion', 'visit', 'exposure'],\n",
       "      dtype='object')"
      ]
     },
     "execution_count": 2,
     "metadata": {},
     "output_type": "execute_result"
    }
   ],
   "source": [
    "import pandas as pd\n",
    "import numpy as np\n",
    "\n",
    "# import three files, takes very long\n",
    "df_all = pd.read_csv('criteo-uplift-v2.1.csv')\n",
    "df_treated = df_all[df_all.treatment == 1] #pd.read_csv('criteo_treated.csv', encoding='latin_1')\n",
    "df_untreated = df_all[df_all.treatment == 0] #pd.read_csv('criteo_not_treated.csv', encoding='latin_1')\n",
    "\n",
    "df_all.columns"
   ]
  },
  {
   "cell_type": "code",
   "execution_count": 3,
   "metadata": {},
   "outputs": [
    {
     "name": "stdout",
     "output_type": "stream",
     "text": [
      "13979592 11882655 2096937\n"
     ]
    }
   ],
   "source": [
    "#These are the number of rows in each file. Treated and Untreated data were extracted from the total data.\n",
    "count_all = df_all['conversion'].count()\n",
    "count_treated = df_treated['conversion'].count()\n",
    "count_untreated = df_untreated['conversion'].count()\n",
    "print(count_all,count_treated,count_untreated)"
   ]
  },
  {
   "cell_type": "markdown",
   "metadata": {},
   "source": [
    "#### By the number of untreated data, select these numbers of data randomly from all/treated/untreated\n",
    "* 60% train = 1258163\n",
    "* 20% validation = 419387\n",
    "* 20% test = 419387\n",
    "#### To do this, I shuffle each dataset and choose corresponding number of rows from them, so that we are in fact randomly selecting our training, validating and testing set"
   ]
  },
  {
   "cell_type": "code",
   "execution_count": 143,
   "metadata": {},
   "outputs": [],
   "source": [
    "#Shuffle data to make sure random selection\n",
    "from sklearn.utils import shuffle\n",
    "df_untreated = shuffle(df_untreated)\n",
    "df_treated = shuffle(df_treated)\n",
    "df_all = shuffle(df_all)"
   ]
  },
  {
   "cell_type": "code",
   "execution_count": 20,
   "metadata": {},
   "outputs": [],
   "source": [
    "#Set the number of train, validation and test data we want to use\n",
    "train = 1258163   \n",
    "val = 419387\n",
    "test = 419387\n",
    "learn = train"
   ]
  },
  {
   "cell_type": "code",
   "execution_count": 56,
   "metadata": {},
   "outputs": [],
   "source": [
    "from sklearn.tree import DecisionTreeClassifier\n",
    "from sklearn import metrics\n",
    "\n",
    "features = ['f0','f1','f2','f3','f4','f5','f6','f7','f8','f9','f10','f11']\n",
    "def build_classifier(df, dependent_variable,learn):\n",
    "    #print(dependent_variable)\n",
    "    X, y = df[features][:learn], df[dependent_variable][:learn] #learning set is learn, validation set is train always\n",
    "    X_val, y_val = df[features][train:train+val], df[dependent_variable][train:train+val]\n",
    "    # If we use the default solver, the model does not converge\n",
    "    clf = DecisionTreeClassifier(min_samples_leaf = 10000).fit(X, y)\n",
    "    #print(f\"Accuracy: {clf.score(X_val, y_val)}\")\n",
    "    #fpr, tpr, thresholds = metrics.roc_curve(y_val, clf.predict_proba(X_val)[:,1])\n",
    "    #print(f\"AUC: {metrics.auc(fpr, tpr)}\")\n",
    "    return clf\n",
    "def build_classifier_regression(df, dependent_variable,learn):\n",
    "    #print(dependent_variable)\n",
    "    X, y = df[features][:learn], df[dependent_variable][:learn] #learning set is learn, validation set is train always\n",
    "    X_val, y_val = df[features][train:train+val], df[dependent_variable][train:train+val]\n",
    "    # If we use the default solver, the model does not converge\n",
    "    clf = DecisionTreeClassifier(min_samples_leaf = 10000).fit(X, y)\n",
    "    #print(f\"Accuracy: {clf.score(X_val, y_val)}\")\n",
    "    #fpr, tpr, thresholds = metrics.roc_curve(y_val, clf.predict_proba(X_val)[:,1])\n",
    "    #print(f\"AUC: {metrics.auc(fpr, tpr)}\")\n",
    "    return clf"
   ]
  },
  {
   "cell_type": "markdown",
   "metadata": {},
   "source": [
    "## Model 1: All data, predict conversion"
   ]
  },
  {
   "cell_type": "code",
   "execution_count": 6,
   "metadata": {},
   "outputs": [
    {
     "name": "stdout",
     "output_type": "stream",
     "text": [
      "conversion\n",
      "Accuracy: 0.9971863696299599\n",
      "AUC: 0.9533271812088813\n"
     ]
    }
   ],
   "source": [
    "#Model 1: run logistic regression for all data (including treated and untreated) to predict conversion\n",
    "clf_all = build_classifier(df_all, 'conversion',learn)"
   ]
  },
  {
   "cell_type": "markdown",
   "metadata": {},
   "source": [
    "## Model 2: All data, predict visit"
   ]
  },
  {
   "cell_type": "code",
   "execution_count": 7,
   "metadata": {},
   "outputs": [
    {
     "name": "stdout",
     "output_type": "stream",
     "text": [
      "visit\n",
      "Accuracy: 0.9575785610903533\n",
      "AUC: 0.930821675698435\n"
     ]
    }
   ],
   "source": [
    "#Model 2: run logistic regression for all data (including treated and untreated) to predict visit\n",
    "clf_all_visit = build_classifier(df_all, 'visit',learn)"
   ]
  },
  {
   "cell_type": "markdown",
   "metadata": {},
   "source": [
    "## Model 3: Treated data, predict conversion"
   ]
  },
  {
   "cell_type": "code",
   "execution_count": 8,
   "metadata": {},
   "outputs": [
    {
     "name": "stdout",
     "output_type": "stream",
     "text": [
      "conversion\n",
      "Accuracy: 0.9969693862709145\n",
      "AUC: 0.94817294604042\n"
     ]
    }
   ],
   "source": [
    "clf_treated = build_classifier(df_treated, 'conversion',learn)"
   ]
  },
  {
   "cell_type": "markdown",
   "metadata": {},
   "source": [
    "## Model 4: Treated data, predict visit"
   ]
  },
  {
   "cell_type": "code",
   "execution_count": 9,
   "metadata": {},
   "outputs": [
    {
     "name": "stdout",
     "output_type": "stream",
     "text": [
      "visit\n"
     ]
    },
    {
     "name": "stderr",
     "output_type": "stream",
     "text": [
      "C:\\Users\\ferlo\\Anaconda3\\lib\\site-packages\\scipy\\optimize\\linesearch.py:313: LineSearchWarning: The line search algorithm did not converge\n",
      "  warn('The line search algorithm did not converge', LineSearchWarning)\n",
      "C:\\Users\\ferlo\\Anaconda3\\lib\\site-packages\\sklearn\\utils\\optimize.py:195: UserWarning: Line Search failed\n",
      "  warnings.warn('Line Search failed')\n"
     ]
    },
    {
     "name": "stdout",
     "output_type": "stream",
     "text": [
      "Accuracy: 0.9569013822555301\n",
      "AUC: 0.9296869991995043\n"
     ]
    }
   ],
   "source": [
    "clf_treated_visit = build_classifier(df_treated, 'visit',learn)"
   ]
  },
  {
   "cell_type": "markdown",
   "metadata": {},
   "source": [
    "## Model 5: Untreated data, predict conversion"
   ]
  },
  {
   "cell_type": "code",
   "execution_count": 10,
   "metadata": {},
   "outputs": [
    {
     "name": "stdout",
     "output_type": "stream",
     "text": [
      "conversion\n",
      "Accuracy: 0.9980853006888626\n",
      "AUC: 0.9576730124568793\n"
     ]
    }
   ],
   "source": [
    "clf_untreated = build_classifier(df_untreated, 'conversion',learn)"
   ]
  },
  {
   "cell_type": "markdown",
   "metadata": {},
   "source": [
    "## Model 6: Untreated data, predict visit"
   ]
  },
  {
   "cell_type": "code",
   "execution_count": 11,
   "metadata": {},
   "outputs": [
    {
     "name": "stdout",
     "output_type": "stream",
     "text": [
      "visit\n",
      "Accuracy: 0.9638639252051208\n",
      "AUC: 0.9320007823572166\n"
     ]
    }
   ],
   "source": [
    "clf_untreated_visit = build_classifier(df_untreated, 'visit',learn)"
   ]
  },
  {
   "cell_type": "markdown",
   "metadata": {},
   "source": [
    "## Model 1 Prediction\n",
    "### After building the models, we do evaluation and prediction using validation data\n",
    "* some data in val_set might be the same with training data in untreated/treated data set\n",
    "* val_set is completely separated from training data of model 1"
   ]
  },
  {
   "cell_type": "code",
   "execution_count": 10,
   "metadata": {},
   "outputs": [],
   "source": [
    "val_set = df_all[train:train+val]"
   ]
  },
  {
   "cell_type": "markdown",
   "metadata": {},
   "source": [
    "## Now we see the features of the validation set"
   ]
  },
  {
   "cell_type": "code",
   "execution_count": 11,
   "metadata": {},
   "outputs": [
    {
     "data": {
      "text/plain": [
       "0.8499571994363202"
      ]
     },
     "execution_count": 11,
     "metadata": {},
     "output_type": "execute_result"
    }
   ],
   "source": [
    "#porportion of people treated\n",
    "targeted = val_set.treatment.mean()\n",
    "targeted"
   ]
  },
  {
   "cell_type": "code",
   "execution_count": 12,
   "metadata": {},
   "outputs": [
    {
     "data": {
      "text/plain": [
       "0.0030578380243561007"
      ]
     },
     "execution_count": 12,
     "metadata": {},
     "output_type": "execute_result"
    }
   ],
   "source": [
    "#conversion rate on treated\n",
    "treat_all = val_set[val_set.treatment == 1].conversion.mean()\n",
    "treat_all"
   ]
  },
  {
   "cell_type": "code",
   "execution_count": 13,
   "metadata": {},
   "outputs": [
    {
     "data": {
      "text/plain": [
       "0.0023360772971426757"
      ]
     },
     "execution_count": 13,
     "metadata": {},
     "output_type": "execute_result"
    }
   ],
   "source": [
    "#conversion rate on not treated\n",
    "treat_none = val_set[val_set.treatment == 0].conversion.mean()\n",
    "treat_none"
   ]
  },
  {
   "cell_type": "code",
   "execution_count": 14,
   "metadata": {},
   "outputs": [
    {
     "data": {
      "text/plain": [
       "0.00294954302350812"
      ]
     },
     "execution_count": 14,
     "metadata": {},
     "output_type": "execute_result"
    }
   ],
   "source": [
    "#conversion rate if treat randomly (according to the percentage treated)\n",
    "treat_random = treat_all*targeted+treat_none*(1-targeted)\n",
    "treat_random"
   ]
  },
  {
   "cell_type": "markdown",
   "metadata": {},
   "source": [
    "## Now, we target top 10% and see the result"
   ]
  },
  {
   "cell_type": "code",
   "execution_count": 16,
   "metadata": {},
   "outputs": [],
   "source": [
    "def do_targeting(scores, val_set):\n",
    "    results = val_set[['treatment', 'conversion']].copy()\n",
    "    # Do the targeting\n",
    "    target_size = 41939 #10%\n",
    "    bottom_score = np.sort(scores)[-target_size]\n",
    "    results['target_decision'] = (scores >= bottom_score).astype(int)\n",
    "    # Estimate rewards\n",
    "    matches = results.target_decision == results.treatment.values\n",
    "    treatment_rate = val_set.treatment.mean()\n",
    "    weights = results.treatment * treatment_rate + (1 - results.treatment) * (1 - treatment_rate)\n",
    "    results['reward'] = val_set.conversion.values * matches / weights\n",
    "    return results\n",
    "\n",
    "#all_scores = clf_all.predict_proba(val_set[features])[:, 1]\n",
    "#m1 = do_targeting(all_scores, val_set)\n",
    "#m1.reward.value_counts()"
   ]
  },
  {
   "cell_type": "code",
   "execution_count": 17,
   "metadata": {},
   "outputs": [],
   "source": [
    "#calculte effects\n",
    "def effect(m):\n",
    "    treat_with_model = m.reward.mean()\n",
    "    for_target_treated = m[m.target_decision * m.treatment == 1].conversion.mean()\n",
    "    for_target_untreated = m[m.target_decision * (1-m.treatment) == 1].conversion.mean()\n",
    "    avg_effect = treat_all-treat_none\n",
    "    effect_for_targeted = for_target_treated - for_target_untreated\n",
    "    return treat_with_model,for_target_treated,for_target_untreated,avg_effect,effect_for_targeted\n",
    "\n",
    "#effect1 = effect(m1)\n",
    "#effect1"
   ]
  },
  {
   "cell_type": "markdown",
   "metadata": {},
   "source": [
    "## Model 3 Prediction "
   ]
  },
  {
   "cell_type": "code",
   "execution_count": 19,
   "metadata": {},
   "outputs": [
    {
     "data": {
      "text/plain": [
       "0.000000    418427\n",
       "1.176731       939\n",
       "6.658310        21\n",
       "Name: reward, dtype: int64"
      ]
     },
     "execution_count": 19,
     "metadata": {},
     "output_type": "execute_result"
    }
   ],
   "source": [
    "tr_scores = clf_treated.predict_proba(val_set[features])[:, 1]\n",
    "m3 = do_targeting(tr_scores, val_set)\n",
    "m3.reward.value_counts()"
   ]
  },
  {
   "cell_type": "code",
   "execution_count": 20,
   "metadata": {},
   "outputs": [
    {
     "data": {
      "text/plain": [
       "(0.002968082265278479,\n",
       " 0.025942093048955686,\n",
       " 0.01706425213303152,\n",
       " 0.0010961309120188466,\n",
       " 0.008877840915924168)"
      ]
     },
     "execution_count": 20,
     "metadata": {},
     "output_type": "execute_result"
    }
   ],
   "source": [
    "effect3 = effect(m3)\n",
    "effect3"
   ]
  },
  {
   "cell_type": "markdown",
   "metadata": {},
   "source": [
    "## Model 5 Prediction"
   ]
  },
  {
   "cell_type": "code",
   "execution_count": 21,
   "metadata": {},
   "outputs": [
    {
     "data": {
      "text/plain": [
       "0.000000    418426\n",
       "1.176731       940\n",
       "6.658310        21\n",
       "Name: reward, dtype: int64"
      ]
     },
     "execution_count": 21,
     "metadata": {},
     "output_type": "execute_result"
    }
   ],
   "source": [
    "un_scores = clf_untreated.predict_proba(val_set[features])[:, 1]\n",
    "m5 = do_targeting(un_scores, val_set)\n",
    "m5.reward.value_counts()"
   ]
  },
  {
   "cell_type": "code",
   "execution_count": 22,
   "metadata": {},
   "outputs": [
    {
     "data": {
      "text/plain": [
       "(0.0029708881014176482,\n",
       " 0.026025083750934413,\n",
       " 0.01683848797250859,\n",
       " 0.0010961309120188466,\n",
       " 0.009186595778425823)"
      ]
     },
     "execution_count": 22,
     "metadata": {},
     "output_type": "execute_result"
    }
   ],
   "source": [
    "effect5 = effect(m5)\n",
    "effect5"
   ]
  },
  {
   "cell_type": "markdown",
   "metadata": {},
   "source": [
    "## Uplift Prediction\n",
    "* Create an uplift model by using prediction of treated - untreated"
   ]
  },
  {
   "cell_type": "code",
   "execution_count": 23,
   "metadata": {},
   "outputs": [
    {
     "data": {
      "text/plain": [
       "0.000000    418441\n",
       "1.176731       925\n",
       "6.658310        21\n",
       "Name: reward, dtype: int64"
      ]
     },
     "execution_count": 23,
     "metadata": {},
     "output_type": "execute_result"
    }
   ],
   "source": [
    "up_scores = tr_scores - un_scores\n",
    "up = do_targeting(up_scores, val_set)\n",
    "up.reward.value_counts()"
   ]
  },
  {
   "cell_type": "code",
   "execution_count": 24,
   "metadata": {},
   "outputs": [
    {
     "data": {
      "text/plain": [
       "(0.002928800559330108,\n",
       " 0.025498249579623454,\n",
       " 0.017308371600141294,\n",
       " 0.0010961309120188466,\n",
       " 0.00818987797948216)"
      ]
     },
     "execution_count": 24,
     "metadata": {},
     "output_type": "execute_result"
    }
   ],
   "source": [
    "effect_up = effect(up)\n",
    "effect_up"
   ]
  },
  {
   "cell_type": "markdown",
   "metadata": {},
   "source": [
    "### Use Spearmanr correlation to see how closely these models are ranking things"
   ]
  },
  {
   "cell_type": "code",
   "execution_count": 25,
   "metadata": {},
   "outputs": [
    {
     "data": {
      "text/plain": [
       "SpearmanrResult(correlation=0.9966824583563189, pvalue=0.0)"
      ]
     },
     "execution_count": 25,
     "metadata": {},
     "output_type": "execute_result"
    }
   ],
   "source": [
    "from scipy import stats\n",
    "stats.spearmanr(all_scores, tr_scores)"
   ]
  },
  {
   "cell_type": "code",
   "execution_count": 26,
   "metadata": {},
   "outputs": [
    {
     "data": {
      "text/plain": [
       "SpearmanrResult(correlation=0.9728851038043155, pvalue=0.0)"
      ]
     },
     "execution_count": 26,
     "metadata": {},
     "output_type": "execute_result"
    }
   ],
   "source": [
    "stats.spearmanr(all_scores, un_scores)"
   ]
  },
  {
   "cell_type": "code",
   "execution_count": 27,
   "metadata": {},
   "outputs": [
    {
     "data": {
      "text/plain": [
       "SpearmanrResult(correlation=0.9813267666099121, pvalue=0.0)"
      ]
     },
     "execution_count": 27,
     "metadata": {},
     "output_type": "execute_result"
    }
   ],
   "source": [
    "stats.spearmanr(tr_scores, un_scores)"
   ]
  },
  {
   "cell_type": "code",
   "execution_count": 28,
   "metadata": {},
   "outputs": [
    {
     "data": {
      "text/plain": [
       "SpearmanrResult(correlation=0.9759418497786646, pvalue=0.0)"
      ]
     },
     "execution_count": 28,
     "metadata": {},
     "output_type": "execute_result"
    }
   ],
   "source": [
    "stats.spearmanr(all_scores, up_scores)"
   ]
  },
  {
   "cell_type": "code",
   "execution_count": 29,
   "metadata": {},
   "outputs": [
    {
     "data": {
      "text/plain": [
       "SpearmanrResult(correlation=0.9723228431266762, pvalue=0.0)"
      ]
     },
     "execution_count": 29,
     "metadata": {},
     "output_type": "execute_result"
    }
   ],
   "source": [
    "stats.spearmanr(tr_scores, up_scores)"
   ]
  },
  {
   "cell_type": "code",
   "execution_count": 30,
   "metadata": {},
   "outputs": [
    {
     "data": {
      "text/plain": [
       "SpearmanrResult(correlation=0.9154893002982973, pvalue=0.0)"
      ]
     },
     "execution_count": 30,
     "metadata": {},
     "output_type": "execute_result"
    }
   ],
   "source": [
    "stats.spearmanr(un_scores, up_scores)"
   ]
  },
  {
   "cell_type": "markdown",
   "metadata": {},
   "source": [
    "## Summarize effect for models"
   ]
  },
  {
   "cell_type": "code",
   "execution_count": 31,
   "metadata": {},
   "outputs": [
    {
     "data": {
      "text/html": [
       "<div>\n",
       "<style scoped>\n",
       "    .dataframe tbody tr th:only-of-type {\n",
       "        vertical-align: middle;\n",
       "    }\n",
       "\n",
       "    .dataframe tbody tr th {\n",
       "        vertical-align: top;\n",
       "    }\n",
       "\n",
       "    .dataframe thead th {\n",
       "        text-align: right;\n",
       "    }\n",
       "</style>\n",
       "<table border=\"1\" class=\"dataframe\">\n",
       "  <thead>\n",
       "    <tr style=\"text-align: right;\">\n",
       "      <th></th>\n",
       "      <th>treat_with_model</th>\n",
       "      <th>for_target_treated</th>\n",
       "      <th>for_target_untreated</th>\n",
       "      <th>avg_effect</th>\n",
       "      <th>effect_for_targeted</th>\n",
       "    </tr>\n",
       "  </thead>\n",
       "  <tbody>\n",
       "    <tr>\n",
       "      <th>model_all</th>\n",
       "      <td>0.002981</td>\n",
       "      <td>0.025920</td>\n",
       "      <td>0.016867</td>\n",
       "      <td>0.001096</td>\n",
       "      <td>0.009054</td>\n",
       "    </tr>\n",
       "    <tr>\n",
       "      <th>model_treated</th>\n",
       "      <td>0.002968</td>\n",
       "      <td>0.025942</td>\n",
       "      <td>0.017064</td>\n",
       "      <td>0.001096</td>\n",
       "      <td>0.008878</td>\n",
       "    </tr>\n",
       "    <tr>\n",
       "      <th>model_untreated</th>\n",
       "      <td>0.002971</td>\n",
       "      <td>0.026025</td>\n",
       "      <td>0.016838</td>\n",
       "      <td>0.001096</td>\n",
       "      <td>0.009187</td>\n",
       "    </tr>\n",
       "    <tr>\n",
       "      <th>uplift</th>\n",
       "      <td>0.002929</td>\n",
       "      <td>0.025498</td>\n",
       "      <td>0.017308</td>\n",
       "      <td>0.001096</td>\n",
       "      <td>0.008190</td>\n",
       "    </tr>\n",
       "  </tbody>\n",
       "</table>\n",
       "</div>"
      ],
      "text/plain": [
       "                 treat_with_model  for_target_treated  for_target_untreated  \\\n",
       "model_all                0.002981            0.025920              0.016867   \n",
       "model_treated            0.002968            0.025942              0.017064   \n",
       "model_untreated          0.002971            0.026025              0.016838   \n",
       "uplift                   0.002929            0.025498              0.017308   \n",
       "\n",
       "                 avg_effect  effect_for_targeted  \n",
       "model_all          0.001096             0.009054  \n",
       "model_treated      0.001096             0.008878  \n",
       "model_untreated    0.001096             0.009187  \n",
       "uplift             0.001096             0.008190  "
      ]
     },
     "execution_count": 31,
     "metadata": {},
     "output_type": "execute_result"
    }
   ],
   "source": [
    "result = pd.DataFrame(np.array([np.array(effect1),np.array(effect3),np.array(effect5),np.array(effect_up)]),index = ['model_all','model_treated','model_untreated','uplift'],columns = ['treat_with_model','for_target_treated','for_target_untreated','avg_effect','effect_for_targeted'])\n",
    "result"
   ]
  },
  {
   "cell_type": "markdown",
   "metadata": {},
   "source": [
    "## Learning curve 12.20"
   ]
  },
  {
   "cell_type": "code",
   "execution_count": 87,
   "metadata": {},
   "outputs": [],
   "source": [
    "def auc(model,dependent_variable):\n",
    "    fpr, tpr, thresholds = metrics.roc_curve(val_set[dependent_variable], model.predict_proba(val_set[features])[:,1])\n",
    "    return metrics.auc(fpr, tpr)\n",
    "def auc_up(model_tr,model_un,dependent_variable):\n",
    "    fpr, tpr, thresholds = metrics.roc_curve(val_set[dependent_variable], model_tr.predict_proba(val_set[features])[:,1]-model_un.predict_proba(val_set[features])[:,1])\n",
    "    return metrics.auc(fpr, tpr)"
   ]
  },
  {
   "cell_type": "code",
   "execution_count": 88,
   "metadata": {},
   "outputs": [],
   "source": [
    "def reward(model):\n",
    "    all_scores = model.predict_proba(val_set[features])[:, 1]\n",
    "    m_temp = do_targeting(all_scores, val_set)\n",
    "    return effect(m_temp)[0],effect(m_temp)[-1]\n",
    "def reward_up(model_tr,model_un):\n",
    "    all_scores = model_tr.predict_proba(val_set[features])[:, 1]-model_un.predict_proba(val_set[features])[:, 1]\n",
    "    m_temp = do_targeting(all_scores, val_set)\n",
    "    return effect(m_temp)[0],effect(m_temp)[-1]\n",
    "#reward, effect_for_targeted\n",
    "# number of positives as a f of score percentile for uplift, large dataset before jump +tiny dataset (not powerful) model, same distribution?\n",
    "\n"
   ]
  },
  {
   "cell_type": "markdown",
   "metadata": {},
   "source": [
    "### Model 1: All data, conversion"
   ]
  },
  {
   "cell_type": "code",
   "execution_count": 71,
   "metadata": {},
   "outputs": [],
   "source": [
    "auc_score = []\n",
    "reward_score = []\n",
    "effect_score = []\n",
    "for l in range(10000,500000,10000):\n",
    "    model = build_classifier(df_all, 'conversion',l)\n",
    "    auc_score.append(auc(model,'conversion'))\n",
    "    reward_score.append(reward(model)[0])\n",
    "    effect_score.append(reward(model)[1])"
   ]
  },
  {
   "cell_type": "code",
   "execution_count": 49,
   "metadata": {},
   "outputs": [],
   "source": [
    "import matplotlib.pyplot as plt\n",
    "def draw_learning(reward_score,effect_score,a,b,step):\n",
    "    x = [i for i in range(a,b,step)]\n",
    "    plt.plot(x, reward_score,label = 'reward')\n",
    "    #plt.plot(x, auc_score,label = 'auc_score')\n",
    "    plt.plot(x, effect_score, label = 'effect on targeted')\n",
    "    plt.xlabel('# of train data')\n",
    "    plt.ylabel('evaluation score')\n",
    "    plt.legend()\n",
    "def draw_learning_auc(auc_score,a,b,step):\n",
    "    x = [i for i in range(a,b,step)]\n",
    "    #plt.plot(x, reward_score,label = 'reward_score')\n",
    "    plt.plot(x, auc_score,label = 'auc_score')\n",
    "    #plt.plot(x, effect_score, label = 'effect_score')\n",
    "    plt.xlabel('# of train data')\n",
    "    plt.ylabel('AUC score')\n",
    "    plt.legend()"
   ]
  },
  {
   "cell_type": "code",
   "execution_count": 50,
   "metadata": {},
   "outputs": [
    {
     "data": {
      "image/png": "[encoded data removed]",
      "text/plain": [
       "<Figure size 432x288 with 1 Axes>"
      ]
     },
     "metadata": {},
     "output_type": "display_data"
    }
   ],
   "source": [
    "draw_learning(reward_score,effect_score,10000,500000,10000)"
   ]
  },
  {
   "cell_type": "code",
   "execution_count": 51,
   "metadata": {},
   "outputs": [
    {
     "data": {
      "image/png": "[encoded data removed]",
      "text/plain": [
       "<Figure size 432x288 with 1 Axes>"
      ]
     },
     "metadata": {},
     "output_type": "display_data"
    }
   ],
   "source": [
    "draw_learning_auc(auc_score,10000,500000,10000)"
   ]
  },
  {
   "cell_type": "markdown",
   "metadata": {},
   "source": [
    "### AUC stops increasing at 100,000\n",
    "### reward is constant at 0.003\n",
    "### effect on targeted is around 0.004"
   ]
  },
  {
   "cell_type": "code",
   "execution_count": 59,
   "metadata": {},
   "outputs": [],
   "source": [
    "reward_score1 = []\n",
    "effect_score1 = []\n",
    "for l in range(1000,train,10000):\n",
    "    model = build_classifier(df_all, 'conversion',l)\n",
    "    auc_score.append(auc(model,'conversion'))\n",
    "    reward_score1.append(reward(model)[0])\n",
    "    effect_score1.append(reward(model)[1])"
   ]
  },
  {
   "cell_type": "code",
   "execution_count": 60,
   "metadata": {},
   "outputs": [
    {
     "data": {
      "image/png": "[encoded data removed]",
      "text/plain": [
       "<Figure size 432x288 with 1 Axes>"
      ]
     },
     "metadata": {},
     "output_type": "display_data"
    }
   ],
   "source": [
    "draw_learning(reward_score1,effect_score1,1000,train,10000)"
   ]
  },
  {
   "cell_type": "markdown",
   "metadata": {},
   "source": [
    "### Model 1: \n",
    "* AUC around 0.91 to 0.95 when # of train data >= 100,000\n",
    "* reward constant around 0.3\n",
    "* effect on targeted between (0.0030 to 0.0045)"
   ]
  },
  {
   "cell_type": "markdown",
   "metadata": {},
   "source": [
    "## Model 3: Treated data, conversion"
   ]
  },
  {
   "cell_type": "code",
   "execution_count": 66,
   "metadata": {},
   "outputs": [],
   "source": [
    "auc_score3 = []\n",
    "reward_score3 = []\n",
    "effect_score3 = []\n",
    "for l in range(10000,500000,10000):\n",
    "    model = build_classifier(df_treated, 'conversion',l)\n",
    "    auc_score3.append(auc(model,'conversion'))\n",
    "    reward_score3.append(reward(model)[0])\n",
    "    effect_score3.append(reward(model)[1])"
   ]
  },
  {
   "cell_type": "code",
   "execution_count": 85,
   "metadata": {},
   "outputs": [],
   "source": [
    "#draw_learning(reward_score3,effect_score3,10000,500000,10000)"
   ]
  },
  {
   "cell_type": "code",
   "execution_count": 86,
   "metadata": {},
   "outputs": [],
   "source": [
    "#draw_learning_auc(auc_score3,10000,500000,10000)"
   ]
  },
  {
   "cell_type": "markdown",
   "metadata": {},
   "source": [
    "## Model 5: Treated data, conversion"
   ]
  },
  {
   "cell_type": "code",
   "execution_count": 70,
   "metadata": {},
   "outputs": [],
   "source": [
    "auc_score5 = []\n",
    "reward_score5 = []\n",
    "effect_score5 = []\n",
    "for l in range(10000,500000,10000):\n",
    "    model = build_classifier(df_untreated, 'conversion',l)\n",
    "    auc_score5.append(auc(model,'conversion'))\n",
    "    reward_score5.append(reward(model)[0])\n",
    "    effect_score5.append(reward(model)[1])"
   ]
  },
  {
   "cell_type": "markdown",
   "metadata": {},
   "source": [
    "## Uplift (T-learner)"
   ]
  },
  {
   "cell_type": "code",
   "execution_count": 138,
   "metadata": {},
   "outputs": [],
   "source": [
    "# start with all untreated, increase treated data\n",
    "auc_score_up = []\n",
    "reward_score_up = []\n",
    "effect_score_up = []\n",
    "model_un = build_classifier(df_untreated, 'conversion',500000)########## constant untreated for now\n",
    "for l in range(1000,500000,10000):\n",
    "    model_tr = build_classifier(df_treated, 'conversion',l)\n",
    "   \n",
    "    auc_score_up.append(auc_up(model_tr,model_un,'conversion'))\n",
    "    reward_score_up.append(reward_up(model_tr,model_un)[0])\n",
    "    effect_score_up.append(reward_up(model_tr,model_un)[1])"
   ]
  },
  {
   "cell_type": "code",
   "execution_count": 134,
   "metadata": {},
   "outputs": [],
   "source": [
    "def compare(auc_score,auc_score3,auc_score5,auc_score_up,title):\n",
    "\n",
    "    x = [i for i in range(10000,500000,10000)]\n",
    "    plt.plot(x, auc_score,label = 'All')\n",
    "    plt.plot(x, auc_score3,label = 'Treated')\n",
    "    plt.plot(x, auc_score5,label = 'Untreated')\n",
    "    plt.plot(x, auc_score_up,label = 'Uplift')\n",
    "    \n",
    "    plt.xscale('log')\n",
    "\n",
    "    plt.xlabel('# of train data')\n",
    "    plt.ylabel(title)\n",
    "    plt.legend()"
   ]
  },
  {
   "cell_type": "code",
   "execution_count": 139,
   "metadata": {},
   "outputs": [
    {
     "data": {
      "image/png": "[encoded data removed]",
      "text/plain": [
       "<Figure size 432x288 with 1 Axes>"
      ]
     },
     "metadata": {},
     "output_type": "display_data"
    }
   ],
   "source": [
    "compare(auc_score,auc_score3,auc_score5,auc_score_up[1:],'AUC score')"
   ]
  },
  {
   "cell_type": "code",
   "execution_count": 140,
   "metadata": {},
   "outputs": [
    {
     "data": {
      "image/png": "[encoded data removed]",
      "text/plain": [
       "<Figure size 432x288 with 1 Axes>"
      ]
     },
     "metadata": {},
     "output_type": "display_data"
    }
   ],
   "source": [
    "compare(reward_score,reward_score3,reward_score5,reward_score_up[1:],'reward') ##### why is reward going down"
   ]
  },
  {
   "cell_type": "code",
   "execution_count": 141,
   "metadata": {},
   "outputs": [
    {
     "data": {
      "image/png": "[encoded data removed]",
      "text/plain": [
       "<Figure size 432x288 with 1 Axes>"
      ]
     },
     "metadata": {},
     "output_type": "display_data"
    }
   ],
   "source": [
    "compare(effect_score,effect_score3,effect_score5,effect_score_up[1:],'effect on targeted')"
   ]
  },
  {
   "cell_type": "markdown",
   "metadata": {},
   "source": [
    "### 200,000"
   ]
  },
  {
   "cell_type": "markdown",
   "metadata": {},
   "source": [
    "## X-learner"
   ]
  },
  {
   "cell_type": "code",
   "execution_count": 129,
   "metadata": {},
   "outputs": [],
   "source": [
    "def x_learner(train):\n",
    "    model_tr = build_classifier(df_treated, 'conversion',train)\n",
    "    model_un = build_classifier(df_untreated, 'conversion',train)\n",
    "    d1 = df_treated['conversion']-model_un.predict_proba(df_treated[features])[:, 1]\n",
    "    d2 = model_tr.predict_proba(df_untreated[features])[:, 1]-df_untreated['conversion']\n",
    "    df_d1 = df_treated[features]\n",
    "    df_d2 = df_untreated[features]\n",
    "    df_d1['d1'] = d1\n",
    "    df_d2['d2'] = d2\n",
    "    #print(df_d1.columns)\n",
    "    model3 = build_classifier(df_d1, 'd1',train) # what models to use for the second stage?\n",
    "    model4 = build_classifier(df_d2, 'd2',train)\n",
    "    #0.85,0.15 (which one?)"
   ]
  },
  {
   "cell_type": "code",
   "execution_count": 130,
   "metadata": {},
   "outputs": [
    {
     "name": "stderr",
     "output_type": "stream",
     "text": [
      "C:\\Users\\Huanci\\Anaconda3\\lib\\site-packages\\ipykernel_launcher.py:8: SettingWithCopyWarning: \n",
      "A value is trying to be set on a copy of a slice from a DataFrame.\n",
      "Try using .loc[row_indexer,col_indexer] = value instead\n",
      "\n",
      "See the caveats in the documentation: http://pandas.pydata.org/pandas-docs/stable/indexing.html#indexing-view-versus-copy\n",
      "  \n",
      "C:\\Users\\Huanci\\Anaconda3\\lib\\site-packages\\ipykernel_launcher.py:9: SettingWithCopyWarning: \n",
      "A value is trying to be set on a copy of a slice from a DataFrame.\n",
      "Try using .loc[row_indexer,col_indexer] = value instead\n",
      "\n",
      "See the caveats in the documentation: http://pandas.pydata.org/pandas-docs/stable/indexing.html#indexing-view-versus-copy\n",
      "  if __name__ == '__main__':\n"
     ]
    },
    {
     "name": "stdout",
     "output_type": "stream",
     "text": [
      "Index(['f0', 'f1', 'f2', 'f3', 'f4', 'f5', 'f6', 'f7', 'f8', 'f9', 'f10',\n",
      "       'f11', 'd1'],\n",
      "      dtype='object')\n"
     ]
    },
    {
     "ename": "ValueError",
     "evalue": "Unknown label type: 'continuous'",
     "output_type": "error",
     "traceback": [
      "\u001b[1;31m---------------------------------------------------------------------------\u001b[0m",
      "\u001b[1;31mValueError\u001b[0m                                Traceback (most recent call last)",
      "\u001b[1;32m<ipython-input-130-6d2aefcf7d5b>\u001b[0m in \u001b[0;36m<module>\u001b[1;34m()\u001b[0m\n\u001b[1;32m----> 1\u001b[1;33m \u001b[0mx_learner\u001b[0m\u001b[1;33m(\u001b[0m\u001b[1;36m10000\u001b[0m\u001b[1;33m)\u001b[0m\u001b[1;33m\u001b[0m\u001b[0m\n\u001b[0m",
      "\u001b[1;32m<ipython-input-129-b2615fbccdab>\u001b[0m in \u001b[0;36mx_learner\u001b[1;34m(train)\u001b[0m\n\u001b[0;32m      9\u001b[0m     \u001b[0mdf_d2\u001b[0m\u001b[1;33m[\u001b[0m\u001b[1;34m'd2'\u001b[0m\u001b[1;33m]\u001b[0m \u001b[1;33m=\u001b[0m \u001b[0md2\u001b[0m\u001b[1;33m\u001b[0m\u001b[0m\n\u001b[0;32m     10\u001b[0m     \u001b[0mprint\u001b[0m\u001b[1;33m(\u001b[0m\u001b[0mdf_d1\u001b[0m\u001b[1;33m.\u001b[0m\u001b[0mcolumns\u001b[0m\u001b[1;33m)\u001b[0m\u001b[1;33m\u001b[0m\u001b[0m\n\u001b[1;32m---> 11\u001b[1;33m     \u001b[0mmodel3\u001b[0m \u001b[1;33m=\u001b[0m \u001b[0mbuild_classifier\u001b[0m\u001b[1;33m(\u001b[0m\u001b[0mdf_d1\u001b[0m\u001b[1;33m,\u001b[0m \u001b[1;34m'd1'\u001b[0m\u001b[1;33m,\u001b[0m\u001b[0mtrain\u001b[0m\u001b[1;33m)\u001b[0m\u001b[1;33m\u001b[0m\u001b[0m\n\u001b[0m\u001b[0;32m     12\u001b[0m     \u001b[0mmodel4\u001b[0m \u001b[1;33m=\u001b[0m \u001b[0mbuild_classifier\u001b[0m\u001b[1;33m(\u001b[0m\u001b[0mdf_d2\u001b[0m\u001b[1;33m,\u001b[0m \u001b[1;34m'd2'\u001b[0m\u001b[1;33m,\u001b[0m\u001b[0mtrain\u001b[0m\u001b[1;33m)\u001b[0m\u001b[1;33m\u001b[0m\u001b[0m\n",
      "\u001b[1;32m<ipython-input-56-874191d32c37>\u001b[0m in \u001b[0;36mbuild_classifier\u001b[1;34m(df, dependent_variable, learn)\u001b[0m\n\u001b[0;32m      8\u001b[0m     \u001b[0mX_val\u001b[0m\u001b[1;33m,\u001b[0m \u001b[0my_val\u001b[0m \u001b[1;33m=\u001b[0m \u001b[0mdf\u001b[0m\u001b[1;33m[\u001b[0m\u001b[0mfeatures\u001b[0m\u001b[1;33m]\u001b[0m\u001b[1;33m[\u001b[0m\u001b[0mtrain\u001b[0m\u001b[1;33m:\u001b[0m\u001b[0mtrain\u001b[0m\u001b[1;33m+\u001b[0m\u001b[0mval\u001b[0m\u001b[1;33m]\u001b[0m\u001b[1;33m,\u001b[0m \u001b[0mdf\u001b[0m\u001b[1;33m[\u001b[0m\u001b[0mdependent_variable\u001b[0m\u001b[1;33m]\u001b[0m\u001b[1;33m[\u001b[0m\u001b[0mtrain\u001b[0m\u001b[1;33m:\u001b[0m\u001b[0mtrain\u001b[0m\u001b[1;33m+\u001b[0m\u001b[0mval\u001b[0m\u001b[1;33m]\u001b[0m\u001b[1;33m\u001b[0m\u001b[0m\n\u001b[0;32m      9\u001b[0m     \u001b[1;31m# If we use the default solver, the model does not converge\u001b[0m\u001b[1;33m\u001b[0m\u001b[1;33m\u001b[0m\u001b[0m\n\u001b[1;32m---> 10\u001b[1;33m     \u001b[0mclf\u001b[0m \u001b[1;33m=\u001b[0m \u001b[0mDecisionTreeClassifier\u001b[0m\u001b[1;33m(\u001b[0m\u001b[0mmin_samples_leaf\u001b[0m \u001b[1;33m=\u001b[0m \u001b[1;36m10000\u001b[0m\u001b[1;33m)\u001b[0m\u001b[1;33m.\u001b[0m\u001b[0mfit\u001b[0m\u001b[1;33m(\u001b[0m\u001b[0mX\u001b[0m\u001b[1;33m,\u001b[0m \u001b[0my\u001b[0m\u001b[1;33m)\u001b[0m\u001b[1;33m\u001b[0m\u001b[0m\n\u001b[0m\u001b[0;32m     11\u001b[0m     \u001b[1;31m#print(f\"Accuracy: {clf.score(X_val, y_val)}\")\u001b[0m\u001b[1;33m\u001b[0m\u001b[1;33m\u001b[0m\u001b[0m\n\u001b[0;32m     12\u001b[0m     \u001b[1;31m#fpr, tpr, thresholds = metrics.roc_curve(y_val, clf.predict_proba(X_val)[:,1])\u001b[0m\u001b[1;33m\u001b[0m\u001b[1;33m\u001b[0m\u001b[0m\n",
      "\u001b[1;32m~\\AppData\\Roaming\\Python\\Python36\\site-packages\\sklearn\\tree\\_classes.py\u001b[0m in \u001b[0;36mfit\u001b[1;34m(self, X, y, sample_weight, check_input, X_idx_sorted)\u001b[0m\n\u001b[0;32m    874\u001b[0m             \u001b[0msample_weight\u001b[0m\u001b[1;33m=\u001b[0m\u001b[0msample_weight\u001b[0m\u001b[1;33m,\u001b[0m\u001b[1;33m\u001b[0m\u001b[0m\n\u001b[0;32m    875\u001b[0m             \u001b[0mcheck_input\u001b[0m\u001b[1;33m=\u001b[0m\u001b[0mcheck_input\u001b[0m\u001b[1;33m,\u001b[0m\u001b[1;33m\u001b[0m\u001b[0m\n\u001b[1;32m--> 876\u001b[1;33m             X_idx_sorted=X_idx_sorted)\n\u001b[0m\u001b[0;32m    877\u001b[0m         \u001b[1;32mreturn\u001b[0m \u001b[0mself\u001b[0m\u001b[1;33m\u001b[0m\u001b[0m\n\u001b[0;32m    878\u001b[0m \u001b[1;33m\u001b[0m\u001b[0m\n",
      "\u001b[1;32m~\\AppData\\Roaming\\Python\\Python36\\site-packages\\sklearn\\tree\\_classes.py\u001b[0m in \u001b[0;36mfit\u001b[1;34m(self, X, y, sample_weight, check_input, X_idx_sorted)\u001b[0m\n\u001b[0;32m    171\u001b[0m \u001b[1;33m\u001b[0m\u001b[0m\n\u001b[0;32m    172\u001b[0m         \u001b[1;32mif\u001b[0m \u001b[0mis_classification\u001b[0m\u001b[1;33m:\u001b[0m\u001b[1;33m\u001b[0m\u001b[0m\n\u001b[1;32m--> 173\u001b[1;33m             \u001b[0mcheck_classification_targets\u001b[0m\u001b[1;33m(\u001b[0m\u001b[0my\u001b[0m\u001b[1;33m)\u001b[0m\u001b[1;33m\u001b[0m\u001b[0m\n\u001b[0m\u001b[0;32m    174\u001b[0m             \u001b[0my\u001b[0m \u001b[1;33m=\u001b[0m \u001b[0mnp\u001b[0m\u001b[1;33m.\u001b[0m\u001b[0mcopy\u001b[0m\u001b[1;33m(\u001b[0m\u001b[0my\u001b[0m\u001b[1;33m)\u001b[0m\u001b[1;33m\u001b[0m\u001b[0m\n\u001b[0;32m    175\u001b[0m \u001b[1;33m\u001b[0m\u001b[0m\n",
      "\u001b[1;32m~\\AppData\\Roaming\\Python\\Python36\\site-packages\\sklearn\\utils\\multiclass.py\u001b[0m in \u001b[0;36mcheck_classification_targets\u001b[1;34m(y)\u001b[0m\n\u001b[0;32m    167\u001b[0m     if y_type not in ['binary', 'multiclass', 'multiclass-multioutput',\n\u001b[0;32m    168\u001b[0m                       'multilabel-indicator', 'multilabel-sequences']:\n\u001b[1;32m--> 169\u001b[1;33m         \u001b[1;32mraise\u001b[0m \u001b[0mValueError\u001b[0m\u001b[1;33m(\u001b[0m\u001b[1;34m\"Unknown label type: %r\"\u001b[0m \u001b[1;33m%\u001b[0m \u001b[0my_type\u001b[0m\u001b[1;33m)\u001b[0m\u001b[1;33m\u001b[0m\u001b[0m\n\u001b[0m\u001b[0;32m    170\u001b[0m \u001b[1;33m\u001b[0m\u001b[0m\n\u001b[0;32m    171\u001b[0m \u001b[1;33m\u001b[0m\u001b[0m\n",
      "\u001b[1;31mValueError\u001b[0m: Unknown label type: 'continuous'"
     ]
    }
   ],
   "source": [
    "x_learner(10000)"
   ]
  },
  {
   "cell_type": "code",
   "execution_count": 142,
   "metadata": {},
   "outputs": [
    {
     "data": {
      "text/plain": [
       "[0.05570547831127816,\n",
       " 0.05570547831127816,\n",
       " 0.1451689105619887,\n",
       " 0.19974780065907968,\n",
       " 0.3058540684895,\n",
       " 0.3189314367448489,\n",
       " 0.315059190252789,\n",
       " 0.30860901818467246,\n",
       " 0.30592769030851624,\n",
       " 0.29445314373635034,\n",
       " 0.29238571542221575,\n",
       " 0.2801918747271033,\n",
       " 0.27450805029003783,\n",
       " 0.2719783043666085,\n",
       " 0.2684903476847966,\n",
       " 0.25803487974081474,\n",
       " 0.2572688279039473,\n",
       " 0.24725530353654812,\n",
       " 0.29642300636895136,\n",
       " 0.29447052986114786,\n",
       " 0.30107974350197697,\n",
       " 0.2984916081933442,\n",
       " 0.29976318872316576,\n",
       " 0.31810860885772124,\n",
       " 0.327377813560926,\n",
       " 0.3240443532745334,\n",
       " 0.32302341578290106,\n",
       " 0.3238852537029614,\n",
       " 0.32569561463856417,\n",
       " 0.3263116939910572,\n",
       " 0.3267346603407955,\n",
       " 0.3269133673934858,\n",
       " 0.32666312841401834,\n",
       " 0.326588389150308,\n",
       " 0.32770196435370763,\n",
       " 0.30854879313556427,\n",
       " 0.310723181013184,\n",
       " 0.31128782504373353,\n",
       " 0.31070107764780985,\n",
       " 0.30993244389504493,\n",
       " 0.30839722084931404,\n",
       " 0.30914461928630277,\n",
       " 0.31130978824519717,\n",
       " 0.31076422487279154,\n",
       " 0.31309116521738795,\n",
       " 0.31517406859389785,\n",
       " 0.8681937105843376,\n",
       " 0.8669706915329688,\n",
       " 0.8686855312468373,\n",
       " 0.8581413472806412]"
      ]
     },
     "execution_count": 142,
     "metadata": {},
     "output_type": "execute_result"
    }
   ],
   "source": [
    "auc_score_up"
   ]
  },
  {
   "cell_type": "code",
   "execution_count": null,
   "metadata": {},
   "outputs": [],
   "source": []
  }
 ],
 "metadata": {
  "anaconda-cloud": {},
  "kernelspec": {
   "display_name": "Python 3",
   "language": "python",
   "name": "python3"
  },
  "language_info": {
   "codemirror_mode": {
    "name": "ipython",
    "version": 3
   },
   "file_extension": ".py",
   "mimetype": "text/x-python",
   "name": "python",
   "nbconvert_exporter": "python",
   "pygments_lexer": "ipython3",
   "version": "3.6.5"
  }
 },
 "nbformat": 4,
 "nbformat_minor": 2
}
